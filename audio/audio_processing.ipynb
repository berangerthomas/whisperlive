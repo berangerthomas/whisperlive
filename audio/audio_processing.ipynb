{
 "cells": [
  {
   "cell_type": "markdown",
   "metadata": {},
   "source": [
    "### Prérequis"
   ]
  },
  {
   "cell_type": "code",
   "execution_count": 1,
   "metadata": {},
   "outputs": [],
   "source": [
    "# Fonctionne avec Python 3.13 :\n",
    "# pip install --upgrade pyloudnorm soundfile pedalboard\n",
    "# conda install -n audio ipykernel --update-deps --force-reinstall"
   ]
  },
  {
   "cell_type": "markdown",
   "metadata": {},
   "source": [
    "### Imports"
   ]
  },
  {
   "cell_type": "code",
   "execution_count": 2,
   "metadata": {},
   "outputs": [],
   "source": [
    "import glob\n",
    "import pyloudnorm as pyln\n",
    "import soundfile as sf\n",
    "import numpy as np\n",
    "from scipy import signal\n",
    "from pedalboard import load_plugin\n",
    "from pedalboard.io import AudioFile\n",
    "from pathlib import Path"
   ]
  },
  {
   "cell_type": "markdown",
   "metadata": {},
   "source": [
    "### Récupérer les fichiers à traiter"
   ]
  },
  {
   "cell_type": "code",
   "execution_count": 3,
   "metadata": {},
   "outputs": [
    {
     "name": "stdout",
     "output_type": "stream",
     "text": [
      "Langues : ['es', 'fr', 'de', 'en']\n"
     ]
    }
   ],
   "source": [
    "# Recherche des fichiers audio formattés ainsi :\n",
    "# {langue}_0.wav\n",
    "# Par exemple :\n",
    "# fr_0.wav\n",
    "# en_0.wav\n",
    "\n",
    "# Glob des fichiers avec le pattern {langue}_0.wav\n",
    "\n",
    "\n",
    "audio_files = [\n",
    "    Path(f)\n",
    "    for f in glob.glob(\"??_0.wav\")\n",
    "    if Path(f).is_file() and Path(f).stat().st_size > 0\n",
    "]\n",
    "\n",
    "# Déductions des langues, selon les fichiers trouvés dans le répertoire audio\n",
    "\n",
    "\n",
    "# Cela permet de normaliser ensuite les fichiers par langue\n",
    "\n",
    "\n",
    "langues = list(set([f.stem.split(\"_\")[0] for f in audio_files]))\n",
    "\n",
    "\n",
    "# Affichage des langues trouvées\n",
    "\n",
    "\n",
    "if not langues:\n",
    "    print(\"Aucun fichier audio trouvé dans le répertoire 'audio'\")\n",
    "\n",
    "\n",
    "else:\n",
    "    print(f\"Langues : {langues}\")"
   ]
  },
  {
   "cell_type": "markdown",
   "metadata": {},
   "source": [
    "### Conversion en 16kHz mono"
   ]
  },
  {
   "cell_type": "code",
   "execution_count": 4,
   "metadata": {},
   "outputs": [],
   "source": [
    "for fic in audio_files:\n",
    "    # Charger le fichier audio\n",
    "    data, sr = sf.read(fic)\n",
    "\n",
    "    # Convertir en mono si le fichier est en stéréo\n",
    "    if len(data.shape) > 1:\n",
    "        data = np.mean(data, axis=1)\n",
    "\n",
    "    # Rééchantillonner à 16kHz si nécessaire\n",
    "    if sr != 16000:\n",
    "        # Calculer le ratio pour le rééchantillonnage\n",
    "        ratio = 16000 / sr\n",
    "        new_length = int(len(data) * ratio)\n",
    "        data = signal.resample_poly(data, 16000, sr)\n",
    "\n",
    "    # Sauvegarder le fichier converti\n",
    "    sf.write(fic, data, 16000)"
   ]
  },
  {
   "cell_type": "markdown",
   "metadata": {},
   "source": [
    "### Création des fichiers audio dégradés"
   ]
  },
  {
   "cell_type": "code",
   "execution_count": 5,
   "metadata": {},
   "outputs": [],
   "source": [
    "# {Program 0 name: Room\n",
    "# Program 1 name: Hallway\n",
    "# Program 2 name: Cathedral\n",
    "# Program 3 name: Elevator Speaker\n",
    "# Program 4 name: Haunted Cave\n",
    "# Program 5 name: Headphones, Outdoor\n",
    "# Program 6 name: Houston, we've had a problem\n",
    "# Program 7 name: Laptop, Living Room\n",
    "# Program 8 name: Laptop, Office\n",
    "# Program 9 name: Megaphone, Outdoor\n",
    "# Program 10 name: Neighbor's Radio\n",
    "# Program 11 name: Neighbor's Speakers\n",
    "# Program 12 name: Neighbor's TV\n",
    "# Program 13 name: Outside The Club\n",
    "# Program 14 name: P.A. System, Airplane\n",
    "# Program 15 name: P.A. System, Airport\n",
    "# Program 16 name: P.A. System, Bus\n",
    "# Program 17 name: P.A. System, Cathedral\n",
    "# Program 18 name: P.A. System, Conference Room\n",
    "# Program 19 name: P.A. System, Gym\n",
    "# Program 20 name: P.A. System, Hospital\n",
    "# Program 21 name: P.A. System, Museum\n",
    "# Program 22 name: P.A. System, Outdoor\n",
    "# Program 23 name: P.A. System, School Hallway\n",
    "# Program 24 name: P.A. System, Shopping Mall\n",
    "# Program 25 name: P.A. System, Spaceship\n",
    "# Program 26 name: P.A. System, Train Station\n",
    "# Program 27 name: P.A. System, Waiting Room\n",
    "# Program 28 name: Party Downstairs\n",
    "# Program 29 name: Phone, On Ear\n",
    "# Program 30 name: Phone, On Loudspeaker\n",
    "# Program 31 name: Police Radio, Car\n",
    "# Program 32 name: Radio, Bathroom\n",
    "# Program 33 name: Radio, Car\n",
    "# Program 34 name: Radio, Kitchen\n",
    "# Program 35 name: Radio, Living Room\n",
    "# Program 36 name: Smart Home Speaker\n",
    "# Program 37 name: The Almighty\n",
    "# Program 38 name: TV, Bedroom\n",
    "# Program 39 name: TV, Living Room\n",
    "# Program 40 name: Walkie Talkie, Outdoor}"
   ]
  },
  {
   "cell_type": "code",
   "execution_count": 6,
   "metadata": {},
   "outputs": [
    {
     "name": "stdout",
     "output_type": "stream",
     "text": [
      "Traitement du fichier de_0.wav\n",
      "Effet 1: Cathedral\n",
      "Effet 2: Elevator Speaker\n",
      "Effet 3: Phone, On Ear\n",
      "Effet 4: TV, Living Room\n",
      "Effet 5: Megaphone, Outdoor\n",
      "Effet 6: Houston, we've had a problem\n",
      "Effet 7: Walkie Talkie, Outdoor\n",
      "Effet 8: Police Radio, Car\n",
      "Traitement du fichier en_0.wav\n",
      "Effet 1: Cathedral\n",
      "Effet 2: Elevator Speaker\n",
      "Effet 3: Phone, On Ear\n",
      "Effet 4: TV, Living Room\n",
      "Effet 5: Megaphone, Outdoor\n",
      "Effet 6: Houston, we've had a problem\n",
      "Effet 7: Walkie Talkie, Outdoor\n",
      "Effet 8: Police Radio, Car\n",
      "Traitement du fichier es_0.wav\n",
      "Effet 1: Cathedral\n",
      "Effet 2: Elevator Speaker\n",
      "Effet 3: Phone, On Ear\n",
      "Effet 4: TV, Living Room\n",
      "Effet 5: Megaphone, Outdoor\n",
      "Effet 6: Houston, we've had a problem\n",
      "Effet 7: Walkie Talkie, Outdoor\n",
      "Effet 8: Police Radio, Car\n",
      "Traitement du fichier fr_0.wav\n",
      "Effet 1: Cathedral\n",
      "Effet 2: Elevator Speaker\n",
      "Effet 3: Phone, On Ear\n",
      "Effet 4: TV, Living Room\n",
      "Effet 5: Megaphone, Outdoor\n",
      "Effet 6: Houston, we've had a problem\n",
      "Effet 7: Walkie Talkie, Outdoor\n",
      "Effet 8: Police Radio, Car\n"
     ]
    }
   ],
   "source": [
    "# Utilisation du plugin PlacIt.vst3 avec pedalboard pour dégrader la qualité sonore selon plusieurs profils\n",
    "effect = load_plugin(\"PlaceIt.vst3\")\n",
    "\n",
    "# Effets à utiliser\n",
    "effets = (\n",
    "    \"Cathedral\",\n",
    "    \"Elevator Speaker\",\n",
    "    \"Phone, On Ear\",\n",
    "    \"TV, Living Room\",\n",
    "    \"Megaphone, Outdoor\",\n",
    "    \"Houston, we've had a problem\",\n",
    "    \"Walkie Talkie, Outdoor\",\n",
    "    \"Police Radio, Car\",\n",
    ")\n",
    "\n",
    "# Itération sur les fichiers audio trouvés\n",
    "audio_files_result = []\n",
    "for fic in audio_files:\n",
    "    print(f\"Traitement du fichier {fic}\")\n",
    "    audio_files_result.append(fic)\n",
    "    # Lire le fichier audio\n",
    "    with AudioFile(str(fic)) as f_audio:\n",
    "        audio = f_audio.read(f_audio.frames)\n",
    "        # Appliquer les effets en utilisant enumerate pour obtenir l'index et le nom de l'effet\n",
    "        for index, effet in enumerate(effets):\n",
    "            effect.program = effet\n",
    "            print(f\"Effet {index + 1}: {effet}\")\n",
    "            # Appliquer l'effet\n",
    "            effected = effect(audio, f_audio.samplerate)\n",
    "            # Ecrire le fichier audio résultant\n",
    "            with AudioFile(\n",
    "                str(fic).replace(\"_0.wav\", f\"_{index + 1}.wav\"),\n",
    "                \"w\",\n",
    "                samplerate=f_audio.samplerate,\n",
    "                num_channels=f_audio.num_channels,\n",
    "            ) as f:\n",
    "                f.write(effected)\n",
    "            # Compléter audio_files avec le fichier nouvellement créé\n",
    "            audio_files_result.append(\n",
    "                Path(str(fic).replace(\"_0.wav\", f\"_{index + 1}.wav\"))\n",
    "            )"
   ]
  },
  {
   "cell_type": "markdown",
   "metadata": {},
   "source": [
    "### Normalisation du volume sonore"
   ]
  },
  {
   "cell_type": "code",
   "execution_count": 7,
   "metadata": {},
   "outputs": [
    {
     "name": "stdout",
     "output_type": "stream",
     "text": [
      "[WindowsPath('de_0.wav'), WindowsPath('de_1.wav'), WindowsPath('de_2.wav'), WindowsPath('de_3.wav'), WindowsPath('de_4.wav'), WindowsPath('de_5.wav'), WindowsPath('de_6.wav'), WindowsPath('de_7.wav'), WindowsPath('de_8.wav'), WindowsPath('en_0.wav'), WindowsPath('en_1.wav'), WindowsPath('en_2.wav'), WindowsPath('en_3.wav'), WindowsPath('en_4.wav'), WindowsPath('en_5.wav'), WindowsPath('en_6.wav'), WindowsPath('en_7.wav'), WindowsPath('en_8.wav'), WindowsPath('es_0.wav'), WindowsPath('es_1.wav'), WindowsPath('es_2.wav'), WindowsPath('es_3.wav'), WindowsPath('es_4.wav'), WindowsPath('es_5.wav'), WindowsPath('es_6.wav'), WindowsPath('es_7.wav'), WindowsPath('es_8.wav'), WindowsPath('fr_0.wav'), WindowsPath('fr_1.wav'), WindowsPath('fr_2.wav'), WindowsPath('fr_3.wav'), WindowsPath('fr_4.wav'), WindowsPath('fr_5.wav'), WindowsPath('fr_6.wav'), WindowsPath('fr_7.wav'), WindowsPath('fr_8.wav')]\n",
      "[WindowsPath('es_0.wav'), WindowsPath('es_1.wav'), WindowsPath('es_2.wav'), WindowsPath('es_3.wav'), WindowsPath('es_4.wav'), WindowsPath('es_5.wav'), WindowsPath('es_6.wav'), WindowsPath('es_7.wav'), WindowsPath('es_8.wav')]\n",
      "es_0.wav\n",
      "Normalizing es_0.wav... -5.8 LUFS\n",
      "es_1.wav\n",
      "Normalizing es_1.wav... -6.5 LUFS\n",
      "es_2.wav\n",
      "Normalizing es_2.wav... +2.4 LUFS\n",
      "es_3.wav\n",
      "Normalizing es_3.wav... -3.6 LUFS\n",
      "es_4.wav\n",
      "Normalizing es_4.wav... -2.1 LUFS\n",
      "es_5.wav\n",
      "Normalizing es_5.wav... -0.6 LUFS\n",
      "es_6.wav\n",
      "Normalizing es_6.wav... -2.7 LUFS\n",
      "es_7.wav\n",
      "Normalizing es_7.wav... +3.1 LUFS\n",
      "es_8.wav\n",
      "Normalizing es_8.wav... +8.2 LUFS\n",
      "[WindowsPath('de_0.wav'), WindowsPath('de_1.wav'), WindowsPath('de_2.wav'), WindowsPath('de_3.wav'), WindowsPath('de_4.wav'), WindowsPath('de_5.wav'), WindowsPath('de_6.wav'), WindowsPath('de_7.wav'), WindowsPath('de_8.wav'), WindowsPath('en_0.wav'), WindowsPath('en_1.wav'), WindowsPath('en_2.wav'), WindowsPath('en_3.wav'), WindowsPath('en_4.wav'), WindowsPath('en_5.wav'), WindowsPath('en_6.wav'), WindowsPath('en_7.wav'), WindowsPath('en_8.wav'), WindowsPath('es_0.wav'), WindowsPath('es_1.wav'), WindowsPath('es_2.wav'), WindowsPath('es_3.wav'), WindowsPath('es_4.wav'), WindowsPath('es_5.wav'), WindowsPath('es_6.wav'), WindowsPath('es_7.wav'), WindowsPath('es_8.wav'), WindowsPath('fr_0.wav'), WindowsPath('fr_1.wav'), WindowsPath('fr_2.wav'), WindowsPath('fr_3.wav'), WindowsPath('fr_4.wav'), WindowsPath('fr_5.wav'), WindowsPath('fr_6.wav'), WindowsPath('fr_7.wav'), WindowsPath('fr_8.wav')]\n",
      "[WindowsPath('fr_0.wav'), WindowsPath('fr_1.wav'), WindowsPath('fr_2.wav'), WindowsPath('fr_3.wav'), WindowsPath('fr_4.wav'), WindowsPath('fr_5.wav'), WindowsPath('fr_6.wav'), WindowsPath('fr_7.wav'), WindowsPath('fr_8.wav')]\n",
      "fr_0.wav\n",
      "Normalizing fr_0.wav... +2.7 LUFS\n",
      "fr_1.wav\n",
      "Normalizing fr_1.wav... +1.9 LUFS\n",
      "fr_2.wav\n",
      "Normalizing fr_2.wav... +7.7 LUFS\n"
     ]
    },
    {
     "name": "stderr",
     "output_type": "stream",
     "text": [
      "c:\\Users\\beranger\\anaconda3\\envs\\audio\\Lib\\site-packages\\pyloudnorm\\normalize.py:62: UserWarning: Possible clipped samples in output.\n",
      "  warnings.warn(\"Possible clipped samples in output.\")\n"
     ]
    },
    {
     "name": "stdout",
     "output_type": "stream",
     "text": [
      "fr_3.wav\n",
      "Normalizing fr_3.wav... +0.3 LUFS\n",
      "fr_4.wav\n",
      "Normalizing fr_4.wav... +6.7 LUFS\n",
      "fr_5.wav\n",
      "Normalizing fr_5.wav... +3.0 LUFS\n",
      "fr_6.wav\n",
      "Normalizing fr_6.wav... "
     ]
    },
    {
     "name": "stderr",
     "output_type": "stream",
     "text": [
      "c:\\Users\\beranger\\anaconda3\\envs\\audio\\Lib\\site-packages\\pyloudnorm\\normalize.py:62: UserWarning: Possible clipped samples in output.\n",
      "  warnings.warn(\"Possible clipped samples in output.\")\n",
      "c:\\Users\\beranger\\anaconda3\\envs\\audio\\Lib\\site-packages\\pyloudnorm\\normalize.py:62: UserWarning: Possible clipped samples in output.\n",
      "  warnings.warn(\"Possible clipped samples in output.\")\n"
     ]
    },
    {
     "name": "stdout",
     "output_type": "stream",
     "text": [
      "-1.2 LUFS\n",
      "fr_7.wav\n",
      "Normalizing fr_7.wav... +4.5 LUFS\n",
      "fr_8.wav\n",
      "Normalizing fr_8.wav... +9.8 LUFS\n",
      "[WindowsPath('de_0.wav'), WindowsPath('de_1.wav'), WindowsPath('de_2.wav'), WindowsPath('de_3.wav'), WindowsPath('de_4.wav'), WindowsPath('de_5.wav'), WindowsPath('de_6.wav'), WindowsPath('de_7.wav'), WindowsPath('de_8.wav'), WindowsPath('en_0.wav'), WindowsPath('en_1.wav'), WindowsPath('en_2.wav'), WindowsPath('en_3.wav'), WindowsPath('en_4.wav'), WindowsPath('en_5.wav'), WindowsPath('en_6.wav'), WindowsPath('en_7.wav'), WindowsPath('en_8.wav'), WindowsPath('es_0.wav'), WindowsPath('es_1.wav'), WindowsPath('es_2.wav'), WindowsPath('es_3.wav'), WindowsPath('es_4.wav'), WindowsPath('es_5.wav'), WindowsPath('es_6.wav'), WindowsPath('es_7.wav'), WindowsPath('es_8.wav'), WindowsPath('fr_0.wav'), WindowsPath('fr_1.wav'), WindowsPath('fr_2.wav'), WindowsPath('fr_3.wav'), WindowsPath('fr_4.wav'), WindowsPath('fr_5.wav'), WindowsPath('fr_6.wav'), WindowsPath('fr_7.wav'), WindowsPath('fr_8.wav')]\n",
      "[WindowsPath('de_0.wav'), WindowsPath('de_1.wav'), WindowsPath('de_2.wav'), WindowsPath('de_3.wav'), WindowsPath('de_4.wav'), WindowsPath('de_5.wav'), WindowsPath('de_6.wav'), WindowsPath('de_7.wav'), WindowsPath('de_8.wav')]\n",
      "de_0.wav\n",
      "Normalizing de_0.wav... -1.5 LUFS\n",
      "de_1.wav\n",
      "Normalizing de_1.wav... -2.4 LUFS\n",
      "de_2.wav\n",
      "Normalizing de_2.wav... +9.1 LUFS\n",
      "de_3.wav\n",
      "Normalizing de_3.wav... +0.1 LUFS\n",
      "de_4.wav\n",
      "Normalizing de_4.wav... +2.5 LUFS\n",
      "de_5.wav\n",
      "Normalizing de_5.wav... "
     ]
    },
    {
     "name": "stderr",
     "output_type": "stream",
     "text": [
      "c:\\Users\\beranger\\anaconda3\\envs\\audio\\Lib\\site-packages\\pyloudnorm\\normalize.py:62: UserWarning: Possible clipped samples in output.\n",
      "  warnings.warn(\"Possible clipped samples in output.\")\n"
     ]
    },
    {
     "name": "stdout",
     "output_type": "stream",
     "text": [
      "+1.6 LUFS\n",
      "de_6.wav\n",
      "Normalizing de_6.wav... -1.3 LUFS\n",
      "de_7.wav\n",
      "Normalizing de_7.wav... +4.5 LUFS\n",
      "de_8.wav\n",
      "Normalizing de_8.wav... +9.6 LUFS\n",
      "[WindowsPath('de_0.wav'), WindowsPath('de_1.wav'), WindowsPath('de_2.wav'), WindowsPath('de_3.wav'), WindowsPath('de_4.wav'), WindowsPath('de_5.wav'), WindowsPath('de_6.wav'), WindowsPath('de_7.wav'), WindowsPath('de_8.wav'), WindowsPath('en_0.wav'), WindowsPath('en_1.wav'), WindowsPath('en_2.wav'), WindowsPath('en_3.wav'), WindowsPath('en_4.wav'), WindowsPath('en_5.wav'), WindowsPath('en_6.wav'), WindowsPath('en_7.wav'), WindowsPath('en_8.wav'), WindowsPath('es_0.wav'), WindowsPath('es_1.wav'), WindowsPath('es_2.wav'), WindowsPath('es_3.wav'), WindowsPath('es_4.wav'), WindowsPath('es_5.wav'), WindowsPath('es_6.wav'), WindowsPath('es_7.wav'), WindowsPath('es_8.wav'), WindowsPath('fr_0.wav'), WindowsPath('fr_1.wav'), WindowsPath('fr_2.wav'), WindowsPath('fr_3.wav'), WindowsPath('fr_4.wav'), WindowsPath('fr_5.wav'), WindowsPath('fr_6.wav'), WindowsPath('fr_7.wav'), WindowsPath('fr_8.wav')]\n",
      "[WindowsPath('en_0.wav'), WindowsPath('en_1.wav'), WindowsPath('en_2.wav'), WindowsPath('en_3.wav'), WindowsPath('en_4.wav'), WindowsPath('en_5.wav'), WindowsPath('en_6.wav'), WindowsPath('en_7.wav'), WindowsPath('en_8.wav')]\n",
      "en_0.wav\n",
      "Normalizing en_0.wav... -5.0 LUFS\n",
      "en_1.wav\n",
      "Normalizing en_1.wav... -5.8 LUFS\n",
      "en_2.wav\n",
      "Normalizing en_2.wav... +1.2 LUFS\n",
      "en_3.wav\n",
      "Normalizing en_3.wav... -3.1 LUFS\n",
      "en_4.wav\n",
      "Normalizing en_4.wav... -0.6 LUFS\n",
      "en_5.wav\n",
      "Normalizing en_5.wav... -1.3 LUFS\n",
      "en_6.wav\n",
      "Normalizing en_6.wav... -2.0 LUFS\n",
      "en_7.wav\n",
      "Normalizing en_7.wav... +2.7 LUFS\n",
      "en_8.wav\n",
      "Normalizing en_8.wav... +8.3 LUFS\n"
     ]
    }
   ],
   "source": [
    "target_loudness = -22.0\n",
    "\n",
    "# On groupe les fichiers par langue\n",
    "for l in langues:\n",
    "    print(audio_files_result)\n",
    "    files = [f for f in audio_files_result if f.stem.split(\"_\")[0] == l]\n",
    "    print(files)\n",
    "    for f in files:\n",
    "        print(f)\n",
    "        print(f\"Normalizing {f}\", end=\"... \")\n",
    "        data, sr = sf.read(f)\n",
    "        meter = pyln.Meter(sr)\n",
    "        loudness = meter.integrated_loudness(data)\n",
    "\n",
    "        # Calculate the actual normalization applied\n",
    "        normalization_amount = target_loudness - loudness\n",
    "        rounded_amount = round(normalization_amount, 1)\n",
    "        print(f\"{rounded_amount:+} LUFS\", flush=True)\n",
    "\n",
    "        normalized_data = pyln.normalize.loudness(data, loudness, target_loudness)\n",
    "        out_path = str(f).replace(\".wav\", f\"_norm_{rounded_amount:+}db.wav\")\n",
    "        sf.write(out_path, normalized_data, sr)"
   ]
  }
 ],
 "metadata": {
  "kernelspec": {
   "display_name": "audio",
   "language": "python",
   "name": "python3"
  },
  "language_info": {
   "codemirror_mode": {
    "name": "ipython",
    "version": 3
   },
   "file_extension": ".py",
   "mimetype": "text/x-python",
   "name": "python",
   "nbconvert_exporter": "python",
   "pygments_lexer": "ipython3",
   "version": "3.13.1"
  }
 },
 "nbformat": 4,
 "nbformat_minor": 2
}
