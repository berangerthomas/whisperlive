{
 "cells": [
  {
   "cell_type": "code",
   "execution_count": 1,
   "metadata": {},
   "outputs": [],
   "source": [
    "# python.exe -m pip install --upgrade pip\n",
    "# pip install --upgrade transformers datasets[audio] accelerate\n",
    "# pip install --upgrade librosa\n",
    "# pip install --upgrade evaluate\n",
    "# pip install --upgrade jiwer\n",
    "# pip install --upgrade matplotlib"
   ]
  },
  {
   "cell_type": "code",
   "execution_count": 2,
   "metadata": {},
   "outputs": [
    {
     "name": "stderr",
     "output_type": "stream",
     "text": [
      "c:\\Users\\beranger\\anaconda3\\envs\\whisper\\lib\\site-packages\\tqdm\\auto.py:21: TqdmWarning: IProgress not found. Please update jupyter and ipywidgets. See https://ipywidgets.readthedocs.io/en/stable/user_install.html\n",
      "  from .autonotebook import tqdm as notebook_tqdm\n"
     ]
    }
   ],
   "source": [
    "import time\n",
    "import evaluate\n",
    "import librosa\n",
    "import time\n",
    "import evaluate\n",
    "import jiwer\n",
    "import soundfile as sf\n",
    "import matplotlib.pyplot as plt\n",
    "import torch\n",
    "from transformers import AutoModelForSpeechSeq2Seq, AutoProcessor, pipeline, WhisperProcessor"
   ]
  },
  {
   "cell_type": "code",
   "execution_count": 3,
   "metadata": {},
   "outputs": [],
   "source": [
    "texte_original = \"Il y avait déjà bien des années que, de Combray, tout ce qui n’était pas le théâtre et le drame de mon coucher n’existait plus pour moi, quand un jour d’hiver, comme je rentrais à la maison, ma mère, voyant que j’avais froid, me proposa de me faire prendre, contre mon habitude, un peu de thé. Je refusai d’abord et, je ne sais pourquoi, je me ravisai. Elle envoya chercher un de ces gâteaux courts et dodus appelés Petites Madeleines qui semblaient avoir été moulés dans la valve rainurée d’une coquille de Saint-Jacques. Et bientôt, machinalement, accablé par la morne journée et la perspective d’un triste lendemain, je portai à mes lèvres une cuillerée du thé où j’avais laissé s’amollir un morceau de madeleine. Mais à l’instant même où la gorgée mêlée des miettes du gâteau toucha mon palais, je tressaillis, attentif à ce qui se passait d’extraordinaire en moi. Un plaisir délicieux m’avait envahi, isolé, sans la notion de sa cause. Il m’avait aussitôt rendu les vicissitudes de la vie indifférentes, ses désastres inoffensifs, sa brièveté illusoire, de la même façon qu’opère l’amour, en me remplissant d’une essence précieuse : ou plutôt cette essence n’était pas en moi, elle était moi. J’avais cessé de me sentir médiocre, contingent, mortel. D’où avait pu me venir cette puissante joie ? Je sentais qu’elle était liée au goût du thé et du gâteau, mais qu’elle le dépassait infiniment, ne devait pas être de même nature. D’où venait-elle ? Que signifiait-elle ? Où l’appréhender ? Je bois une seconde gorgée où je ne trouve rien de plus que dans la première, une troisième qui m’apporte un peu moins que la seconde. Il est temps que je m’arrête, la vertu du breuvage semble diminuer. Il est clair que la vérité que je cherche n’est pas en lui, mais en moi. Il l’y a éveillée, mais ne la connaît pas, et ne peut que répéter indéfiniment, avec de moins en moins de force, ce même témoignage que je ne sais pas interpréter et que je veux au moins pouvoir lui redemander et retrouver intact à ma disposition, tout à l’heure, pour un éclaircissement décisif. Je pose la tasse et me tourne vers mon esprit. C’est à lui de trouver la vérité.\""
   ]
  },
  {
   "cell_type": "code",
   "execution_count": 4,
   "metadata": {},
   "outputs": [
    {
     "name": "stdout",
     "output_type": "stream",
     "text": [
      "Testing model openai/whisper-tiny...\n"
     ]
    },
    {
     "name": "stderr",
     "output_type": "stream",
     "text": [
      "Device set to use cpu\n",
      "c:\\Users\\beranger\\anaconda3\\envs\\whisper\\lib\\site-packages\\transformers\\models\\whisper\\generation_whisper.py:512: FutureWarning: The input name `inputs` is deprecated. Please make sure to use `input_features` instead.\n",
      "  warnings.warn(\n",
      "Due to a bug fix in https://github.com/huggingface/transformers/pull/28687 transcription using a multilingual Whisper will default to language detection followed by transcription instead of translation to English.This might be a breaking change for your use case. If you want to instead always translate your audio to English, make sure to pass `language='en'`.\n",
      "Passing a tuple of `past_key_values` is deprecated and will be removed in Transformers v4.43.0. You should pass an instance of `EncoderDecoderCache` instead, e.g. `past_key_values=EncoderDecoderCache.from_legacy_cache(past_key_values)`.\n"
     ]
    },
    {
     "name": "stdout",
     "output_type": "stream",
     "text": [
      "Testing model openai/whisper-base...\n"
     ]
    },
    {
     "name": "stderr",
     "output_type": "stream",
     "text": [
      "Device set to use cpu\n"
     ]
    },
    {
     "name": "stdout",
     "output_type": "stream",
     "text": [
      "Testing model openai/whisper-small...\n"
     ]
    },
    {
     "name": "stderr",
     "output_type": "stream",
     "text": [
      "Device set to use cpu\n",
      "Whisper did not predict an ending timestamp, which can happen if audio is cut off in the middle of a word. Also make sure WhisperTimeStampLogitsProcessor was used during generation.\n"
     ]
    },
    {
     "name": "stdout",
     "output_type": "stream",
     "text": [
      "Testing model openai/whisper-medium...\n"
     ]
    },
    {
     "name": "stderr",
     "output_type": "stream",
     "text": [
      "Device set to use cpu\n"
     ]
    },
    {
     "name": "stdout",
     "output_type": "stream",
     "text": [
      "Testing model openai/whisper-large...\n"
     ]
    },
    {
     "name": "stderr",
     "output_type": "stream",
     "text": [
      "Device set to use cpu\n"
     ]
    },
    {
     "name": "stdout",
     "output_type": "stream",
     "text": [
      "Testing model openai/whisper-large-v2...\n"
     ]
    },
    {
     "name": "stderr",
     "output_type": "stream",
     "text": [
      "Device set to use cpu\n",
      "Whisper did not predict an ending timestamp, which can happen if audio is cut off in the middle of a word. Also make sure WhisperTimeStampLogitsProcessor was used during generation.\n"
     ]
    },
    {
     "name": "stdout",
     "output_type": "stream",
     "text": [
      "Testing model openai/whisper-large-v3...\n"
     ]
    },
    {
     "name": "stderr",
     "output_type": "stream",
     "text": [
      "Device set to use cpu\n",
      "Whisper did not predict an ending timestamp, which can happen if audio is cut off in the middle of a word. Also make sure WhisperTimeStampLogitsProcessor was used during generation.\n"
     ]
    },
    {
     "name": "stdout",
     "output_type": "stream",
     "text": [
      "Testing model openai/whisper-large-v3-turbo...\n"
     ]
    },
    {
     "name": "stderr",
     "output_type": "stream",
     "text": [
      "Device set to use cpu\n",
      "Whisper did not predict an ending timestamp, which can happen if audio is cut off in the middle of a word. Also make sure WhisperTimeStampLogitsProcessor was used during generation.\n"
     ]
    }
   ],
   "source": [
    "device = \"cuda\" if torch.cuda.is_available() else \"cpu\"\n",
    "torch_dtype = torch.float16 if torch.cuda.is_available() else torch.float32\n",
    "\n",
    "wer_metric = evaluate.load(\"wer\")\n",
    "\n",
    "model_ids = [\n",
    "    \"openai/whisper-tiny\",\n",
    "    \"openai/whisper-base\",\n",
    "    \"openai/whisper-small\",\n",
    "    \"openai/whisper-medium\",\n",
    "    \"openai/whisper-large\",\n",
    "    \"openai/whisper-large-v2\",\n",
    "    \"openai/whisper-large-v3\",\n",
    "    \"openai/whisper-large-v3-turbo\"\n",
    "]\n",
    "\n",
    "# Charger l'audio\n",
    "audio_data_test, sr_test = librosa.load(\"test.wav\", sr=16000)\n",
    "\n",
    "results = []\n",
    "\n",
    "for model in model_ids:\n",
    "    print(f\"Testing model {model}...\")\n",
    "    start_time = time.time()\n",
    "    tmp_model = AutoModelForSpeechSeq2Seq.from_pretrained(\n",
    "        model, torch_dtype=torch_dtype, low_cpu_mem_usage=True, use_safetensors=True\n",
    "    ).to(device)\n",
    "    tmp_processor = AutoProcessor.from_pretrained(model)\n",
    "    tmp_pipe = pipeline(\n",
    "        \"automatic-speech-recognition\",\n",
    "        model=tmp_model,\n",
    "        tokenizer=tmp_processor.tokenizer,\n",
    "        feature_extractor=tmp_processor.feature_extractor,\n",
    "        torch_dtype=torch_dtype,\n",
    "        device=device,\n",
    "        return_timestamps=True\n",
    "    )\n",
    "\n",
    "    output = tmp_pipe(audio_data_test)\n",
    "    elapsed = time.time() - start_time\n",
    "    wer_value = wer_metric.compute(predictions=[output[\"text\"]], references=[texte_original])\n",
    "\n",
    "    results.append({\n",
    "        \"model_id\": model.split(\"/\")[-1],\n",
    "        \"transcription\": output[\"text\"],\n",
    "        \"wer\": wer_value,\n",
    "        \"time_s\": elapsed\n",
    "    })"
   ]
  },
  {
   "cell_type": "code",
   "execution_count": 5,
   "metadata": {},
   "outputs": [
    {
     "data": {
      "image/png": "[encoded data removed]",
      "text/plain": [
       "<Figure size 1000x600 with 1 Axes>"
      ]
     },
     "metadata": {},
     "output_type": "display_data"
    },
    {
     "name": "stdout",
     "output_type": "stream",
     "text": [
      "whisper-tiny - WER: 0.39 - Time: 15.11s\n",
      "whisper-base - WER: 0.30 - Time: 20.81s\n",
      "whisper-small - WER: 0.21 - Time: 42.51s\n",
      "whisper-medium - WER: 0.19 - Time: 88.98s\n",
      "whisper-large - WER: 0.19 - Time: 266.43s\n",
      "whisper-large-v2 - WER: 0.18 - Time: 167.90s\n",
      "whisper-large-v3 - WER: 0.17 - Time: 171.05s\n",
      "whisper-large-v3-turbo - WER: 0.13 - Time: 87.01s\n"
     ]
    }
   ],
   "source": [
    "# afficher les modèles et leurs performances : model_id, wer et temps\n",
    "# Affichage des résultats sous forme d'un nuage de points\n",
    "\n",
    "# Extraire les WER et les temps pour chaque modèle\n",
    "wer_values = [r[\"wer\"] for r in results]\n",
    "time_values = [r[\"time_s\"] for r in results]\n",
    "model_ids = [r[\"model_id\"] for r in results]\n",
    "\n",
    "# Créer un nuage de points\n",
    "plt.figure(figsize=(10, 6))\n",
    "plt.scatter(time_values, wer_values)\n",
    "\n",
    "# Annoter chaque point avec le nom du modèle\n",
    "for i, model_id in enumerate(model_ids):\n",
    "    plt.annotate(model_id, (time_values[i], wer_values[i]))\n",
    "\n",
    "plt.title(\"Performance des modèles\")\n",
    "plt.xlabel(\"Temps (s)\")\n",
    "plt.ylabel(\"WER\")\n",
    "plt.grid(True)\n",
    "plt.show()\n",
    "\n",
    "classement = sorted(results, key=lambda x: x[\"wer\"])\n",
    "for r in results:\n",
    "    print(f\"{r['model_id']} - WER: {r['wer']:.2f} - Time: {r['time_s']:.2f}s\")"
   ]
  }
 ],
 "metadata": {
  "kernelspec": {
   "display_name": "whisper",
   "language": "python",
   "name": "python3"
  },
  "language_info": {
   "codemirror_mode": {
    "name": "ipython",
    "version": 3
   },
   "file_extension": ".py",
   "mimetype": "text/x-python",
   "name": "python",
   "nbconvert_exporter": "python",
   "pygments_lexer": "ipython3",
   "version": "3.9.21"
  }
 },
 "nbformat": 4,
 "nbformat_minor": 2
}
