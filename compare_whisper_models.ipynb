{
 "cells": [
  {
   "cell_type": "markdown",
   "metadata": {},
   "source": [
    "### Prérequis"
   ]
  },
  {
   "cell_type": "code",
   "execution_count": 26,
   "metadata": {},
   "outputs": [],
   "source": [
    "# conda create -n whisper python=3.9\n",
    "# python.exe -m pip install --upgrade pip\n",
    "# pip install --upgrade transformers datasets[audio] accelerate\n",
    "# pip install --upgrade evaluate jiwer matplotlib seaborn pyaudi\n",
    "# conda install -n whisper ipykernel --update-deps --force-reinstall"
   ]
  },
  {
   "cell_type": "markdown",
   "metadata": {},
   "source": [
    "### Imports"
   ]
  },
  {
   "cell_type": "code",
   "execution_count": 27,
   "metadata": {},
   "outputs": [],
   "source": [
    "import librosa\n",
    "import pickle\n",
    "import time\n",
    "import evaluate\n",
    "import jiwer\n",
    "import matplotlib.pyplot as plt\n",
    "import torch\n",
    "from pathlib import Path\n",
    "from transformers import (\n",
    "    AutoModelForSpeechSeq2Seq,\n",
    "    AutoProcessor,\n",
    "    pipeline,\n",
    "    WhisperProcessor,\n",
    ")\n",
    "import joblib\n",
    "import pandas as pd"
   ]
  },
  {
   "cell_type": "markdown",
   "metadata": {},
   "source": [
    "### Variables préparatoires"
   ]
  },
  {
   "cell_type": "code",
   "execution_count": 28,
   "metadata": {},
   "outputs": [],
   "source": [
    "device = \"cuda\" if torch.cuda.is_available() else \"cpu\"\n",
    "torch_dtype = torch.float16 if torch.cuda.is_available() else torch.float32\n",
    "\n",
    "wer_metric = evaluate.load(\"wer\")\n",
    "\n",
    "model_ids = [\n",
    "    \"openai/whisper-tiny\",\n",
    "    \"openai/whisper-base\",\n",
    "    \"openai/whisper-small\",\n",
    "    \"openai/whisper-medium\",\n",
    "    \"openai/whisper-large\",\n",
    "    \"openai/whisper-large-v2\",\n",
    "    \"openai/whisper-large-v3\",\n",
    "    \"openai/whisper-large-v3-turbo\",\n",
    "]"
   ]
  },
  {
   "cell_type": "markdown",
   "metadata": {},
   "source": [
    "### Textes"
   ]
  },
  {
   "cell_type": "code",
   "execution_count": 29,
   "metadata": {},
   "outputs": [],
   "source": [
    "# Textes lus\n",
    "texts = {\n",
    "    \"fr\": \"Mme Verdurin fut outrée quand elle apprit que deux membres du petit groupe étaient invités sans elle à dîner à Féterne « en petit comité ». Elle dicta au docteur, dont le premier mouvement avait été d'accepter, une fière réponse où il disait : « Nous dînons ce soir-là chez Mme Verdurin », pluriel qui devait être une leçon pour les Cambremer et leur montrer qu'il n'était pas séparable de Mme Cottard. Quant à Morel, Mme Verdurin n'eut pas besoin de lui tracer une conduite impolie, qu'il tint spontanément, voici pourquoi. S'il avait, à l'égard de M. de Charlus, en ce qui concernait ses plaisirs, une indépendance qui affligeait le baron, nous avons vu que l'influence de ce dernier se faisait sentir davantage dans d'autres domaines et qu'il avait par exemple élargi les connaissances musicales et rendu plus pur le style du virtuose. Mais ce n'était encore, au moins à ce point de notre récit, qu'une influence. En revanche, il y avait un terrain sur lequel ce que disait M. de Charlus était aveuglément cru et exécuté par Morel. Aveuglément et follement, car non seulement les enseignements de M. de Charlus étaient faux, mais encore, eussent-ils été valables pour un grand seigneur, appliqués à la lettre par Morel ils devenaient burlesques.\",\n",
    "    \"en\": \"It was a bright cold day in April, and the clocks were striking thirteen. Winston Smith, his chin nuzzled into his breast in an effort to escape the vile wind, slipped quickly through the glass doors of Victory Mansions, though not quickly enough to prevent a swirl of gritty dust from entering along with him. The hallway smelt of boiled cabbage and old rag mats. At one end of it a coloured poster, too large for indoor display, had been tacked to the wall. It depicted simply an enormous face, more than a metre wide: the face of a man of about forty-five, with a heavy black moustache and ruggedly handsome features. Winston made for the stairs. It was no use trying the lift. Even at the best of times it was seldom working, and at present the electric current was cut off during daylight hours. It was part of the economy drive in preparation for Hate Week. The flat was seven flights up, and Winston, who was thirty-nine and had a varicose ulcer above his right ankle, went slowly, resting several times on the way. On each landing, opposite the lift-shaft, the poster with the enormous face gazed from the wall. It was one of those pictures which are so contrived that the eyes follow you about when you move. BIG BROTHER IS WATCHING YOU, the caption beneath it ran.\",\n",
    "    \"es\": \"En un lugar de la Mancha, de cuyo nombre no quiero acordarme, no ha mucho tiempo que vivía un hidalgo de los de lanza en astillero, adarga antigua, rocín flaco y galgo corredor. Una olla de algo más vaca que carnero, salpicón las más noches, duelos y quebrantos los sábados, lantejas los viernes, algún palomino de añadidura los domingos, consumían las tres partes de su hacienda. El resto della concluían sayo de velarte, calzas de velludo para las fiestas, con sus pantuflos de lo mesmo, y los días de entresemana se honraba con su vellorí de lo más fino. Tenía en su casa una ama que pasaba de los cuarenta, y una sobrina que no llegaba a los veinte, y un mozo de campo y plaza, que así ensillaba el rocín como tomaba la podadera. Frisaba la edad de nuestro hidalgo con los cincuenta años; era de complexión recia, seco de carnes, enjuto de rostro, gran madrugador y amigo de la caza. Quieren decir que tenía el sobrenombre de Quijada, o Quesada, que en esto hay alguna diferencia en los autores que deste caso escriben; aunque, por conjeturas verosímiles, se deja entender que se llamaba Quejana. Pero esto importa poco a nuestro cuento; basta que en la narración dél no se salga un punto de la verdad.\",\n",
    "    \"de\": \"Als Gregor Samsa eines Morgens aus unruhigen Träumen erwachte, fand er sich in seinem Bett zu einem ungeheueren Ungeziefer verwandelt. Er lag auf seinem panzerartig harten Rücken und sah, wenn er den Kopf ein wenig hob, seinen gewölbten, braunen, von bogenförmigen Versteifungen geteilten Bauch, auf dessen Höhe sich die Bettdecke, zum gänzlichen Niedergleiten bereit, kaum noch erhalten konnte. Seine vielen, im Vergleich zu seinem sonstigen Umfang kläglich dünnen Beine flimmerten ihm hilflos vor den Augen. »Was ist mit mir geschehen?«, dachte er. Es war kein Traum. Sein Zimmer, ein richtiges, nur etwas zu kleines Menschenzimmer, lag ruhig zwischen den vier wohlbekannten Wänden. Über dem Tisch, auf dem eine auseinandergepackte Musterkollektion von Tuchwaren ausgebreitet war – Samsa war Reisender – hing das Bild, das er vor kurzem aus einer illustrierten Zeitschrift ausgeschnitten und in einem hübschen, vergoldeten Rahmen untergebracht hatte. Es stellte eine Dame dar, die mit einem Pelzhut und einer Pelzboa versehen, aufrecht dasaß und einen schweren Pelzmuff, in dem ihr ganzer Unterarm verschwunden war, dem Beschauer entgegenhob.\",\n",
    "}"
   ]
  },
  {
   "cell_type": "markdown",
   "metadata": {},
   "source": [
    "### Lister les fichiers audio disponibles selon les langues paramétrées\n",
    "La syntaxe des fichiers audio doit être :\n",
    "    {langue}_0.wav\n",
    "\n",
    "Par exemple :\n",
    "    fr_0.wav est le fichier de qualité maximale contenant l'audio à transcrire pour le Français.\n",
    "    de_0.wav est le fichier de qualité maximale contenant l'audio à transcrire pour l'Allemand.\n",
    "\n",
    "Le programme se chargera de créer les fichiers de qualités dégradées à l'aide d'un plugin vst."
   ]
  },
  {
   "cell_type": "code",
   "execution_count": 30,
   "metadata": {},
   "outputs": [
    {
     "name": "stdout",
     "output_type": "stream",
     "text": [
      "Langues : ['fr', 'en', 'es', 'de']\n",
      "{'fr': {'openai/whisper-tiny': {WindowsPath('audio/fr_0_norm_+2.7db.wav'): {}, WindowsPath('audio/fr_1_norm_+1.9db.wav'): {}, WindowsPath('audio/fr_2_norm_+7.7db.wav'): {}, WindowsPath('audio/fr_3_norm_+0.3db.wav'): {}, WindowsPath('audio/fr_4_norm_+6.7db.wav'): {}, WindowsPath('audio/fr_5_norm_+3.0db.wav'): {}, WindowsPath('audio/fr_6_norm_-1.2db.wav'): {}, WindowsPath('audio/fr_7_norm_+4.5db.wav'): {}, WindowsPath('audio/fr_8_norm_+9.8db.wav'): {}}, 'openai/whisper-base': {WindowsPath('audio/fr_0_norm_+2.7db.wav'): {}, WindowsPath('audio/fr_1_norm_+1.9db.wav'): {}, WindowsPath('audio/fr_2_norm_+7.7db.wav'): {}, WindowsPath('audio/fr_3_norm_+0.3db.wav'): {}, WindowsPath('audio/fr_4_norm_+6.7db.wav'): {}, WindowsPath('audio/fr_5_norm_+3.0db.wav'): {}, WindowsPath('audio/fr_6_norm_-1.2db.wav'): {}, WindowsPath('audio/fr_7_norm_+4.5db.wav'): {}, WindowsPath('audio/fr_8_norm_+9.8db.wav'): {}}, 'openai/whisper-small': {WindowsPath('audio/fr_0_norm_+2.7db.wav'): {}, WindowsPath('audio/fr_1_norm_+1.9db.wav'): {}, WindowsPath('audio/fr_2_norm_+7.7db.wav'): {}, WindowsPath('audio/fr_3_norm_+0.3db.wav'): {}, WindowsPath('audio/fr_4_norm_+6.7db.wav'): {}, WindowsPath('audio/fr_5_norm_+3.0db.wav'): {}, WindowsPath('audio/fr_6_norm_-1.2db.wav'): {}, WindowsPath('audio/fr_7_norm_+4.5db.wav'): {}, WindowsPath('audio/fr_8_norm_+9.8db.wav'): {}}, 'openai/whisper-medium': {WindowsPath('audio/fr_0_norm_+2.7db.wav'): {}, WindowsPath('audio/fr_1_norm_+1.9db.wav'): {}, WindowsPath('audio/fr_2_norm_+7.7db.wav'): {}, WindowsPath('audio/fr_3_norm_+0.3db.wav'): {}, WindowsPath('audio/fr_4_norm_+6.7db.wav'): {}, WindowsPath('audio/fr_5_norm_+3.0db.wav'): {}, WindowsPath('audio/fr_6_norm_-1.2db.wav'): {}, WindowsPath('audio/fr_7_norm_+4.5db.wav'): {}, WindowsPath('audio/fr_8_norm_+9.8db.wav'): {}}, 'openai/whisper-large': {WindowsPath('audio/fr_0_norm_+2.7db.wav'): {}, WindowsPath('audio/fr_1_norm_+1.9db.wav'): {}, WindowsPath('audio/fr_2_norm_+7.7db.wav'): {}, WindowsPath('audio/fr_3_norm_+0.3db.wav'): {}, WindowsPath('audio/fr_4_norm_+6.7db.wav'): {}, WindowsPath('audio/fr_5_norm_+3.0db.wav'): {}, WindowsPath('audio/fr_6_norm_-1.2db.wav'): {}, WindowsPath('audio/fr_7_norm_+4.5db.wav'): {}, WindowsPath('audio/fr_8_norm_+9.8db.wav'): {}}, 'openai/whisper-large-v2': {WindowsPath('audio/fr_0_norm_+2.7db.wav'): {}, WindowsPath('audio/fr_1_norm_+1.9db.wav'): {}, WindowsPath('audio/fr_2_norm_+7.7db.wav'): {}, WindowsPath('audio/fr_3_norm_+0.3db.wav'): {}, WindowsPath('audio/fr_4_norm_+6.7db.wav'): {}, WindowsPath('audio/fr_5_norm_+3.0db.wav'): {}, WindowsPath('audio/fr_6_norm_-1.2db.wav'): {}, WindowsPath('audio/fr_7_norm_+4.5db.wav'): {}, WindowsPath('audio/fr_8_norm_+9.8db.wav'): {}}, 'openai/whisper-large-v3': {WindowsPath('audio/fr_0_norm_+2.7db.wav'): {}, WindowsPath('audio/fr_1_norm_+1.9db.wav'): {}, WindowsPath('audio/fr_2_norm_+7.7db.wav'): {}, WindowsPath('audio/fr_3_norm_+0.3db.wav'): {}, WindowsPath('audio/fr_4_norm_+6.7db.wav'): {}, WindowsPath('audio/fr_5_norm_+3.0db.wav'): {}, WindowsPath('audio/fr_6_norm_-1.2db.wav'): {}, WindowsPath('audio/fr_7_norm_+4.5db.wav'): {}, WindowsPath('audio/fr_8_norm_+9.8db.wav'): {}}, 'openai/whisper-large-v3-turbo': {WindowsPath('audio/fr_0_norm_+2.7db.wav'): {}, WindowsPath('audio/fr_1_norm_+1.9db.wav'): {}, WindowsPath('audio/fr_2_norm_+7.7db.wav'): {}, WindowsPath('audio/fr_3_norm_+0.3db.wav'): {}, WindowsPath('audio/fr_4_norm_+6.7db.wav'): {}, WindowsPath('audio/fr_5_norm_+3.0db.wav'): {}, WindowsPath('audio/fr_6_norm_-1.2db.wav'): {}, WindowsPath('audio/fr_7_norm_+4.5db.wav'): {}, WindowsPath('audio/fr_8_norm_+9.8db.wav'): {}}}, 'en': {'openai/whisper-tiny': {WindowsPath('audio/en_0_norm_-5.0db.wav'): {}, WindowsPath('audio/en_1_norm_-5.8db.wav'): {}, WindowsPath('audio/en_2_norm_+1.2db.wav'): {}, WindowsPath('audio/en_3_norm_-3.1db.wav'): {}, WindowsPath('audio/en_4_norm_-0.6db.wav'): {}, WindowsPath('audio/en_5_norm_-1.3db.wav'): {}, WindowsPath('audio/en_6_norm_-2.0db.wav'): {}, WindowsPath('audio/en_7_norm_+2.7db.wav'): {}, WindowsPath('audio/en_8_norm_+8.3db.wav'): {}}, 'openai/whisper-base': {WindowsPath('audio/en_0_norm_-5.0db.wav'): {}, WindowsPath('audio/en_1_norm_-5.8db.wav'): {}, WindowsPath('audio/en_2_norm_+1.2db.wav'): {}, WindowsPath('audio/en_3_norm_-3.1db.wav'): {}, WindowsPath('audio/en_4_norm_-0.6db.wav'): {}, WindowsPath('audio/en_5_norm_-1.3db.wav'): {}, WindowsPath('audio/en_6_norm_-2.0db.wav'): {}, WindowsPath('audio/en_7_norm_+2.7db.wav'): {}, WindowsPath('audio/en_8_norm_+8.3db.wav'): {}}, 'openai/whisper-small': {WindowsPath('audio/en_0_norm_-5.0db.wav'): {}, WindowsPath('audio/en_1_norm_-5.8db.wav'): {}, WindowsPath('audio/en_2_norm_+1.2db.wav'): {}, WindowsPath('audio/en_3_norm_-3.1db.wav'): {}, WindowsPath('audio/en_4_norm_-0.6db.wav'): {}, WindowsPath('audio/en_5_norm_-1.3db.wav'): {}, WindowsPath('audio/en_6_norm_-2.0db.wav'): {}, WindowsPath('audio/en_7_norm_+2.7db.wav'): {}, WindowsPath('audio/en_8_norm_+8.3db.wav'): {}}, 'openai/whisper-medium': {WindowsPath('audio/en_0_norm_-5.0db.wav'): {}, WindowsPath('audio/en_1_norm_-5.8db.wav'): {}, WindowsPath('audio/en_2_norm_+1.2db.wav'): {}, WindowsPath('audio/en_3_norm_-3.1db.wav'): {}, WindowsPath('audio/en_4_norm_-0.6db.wav'): {}, WindowsPath('audio/en_5_norm_-1.3db.wav'): {}, WindowsPath('audio/en_6_norm_-2.0db.wav'): {}, WindowsPath('audio/en_7_norm_+2.7db.wav'): {}, WindowsPath('audio/en_8_norm_+8.3db.wav'): {}}, 'openai/whisper-large': {WindowsPath('audio/en_0_norm_-5.0db.wav'): {}, WindowsPath('audio/en_1_norm_-5.8db.wav'): {}, WindowsPath('audio/en_2_norm_+1.2db.wav'): {}, WindowsPath('audio/en_3_norm_-3.1db.wav'): {}, WindowsPath('audio/en_4_norm_-0.6db.wav'): {}, WindowsPath('audio/en_5_norm_-1.3db.wav'): {}, WindowsPath('audio/en_6_norm_-2.0db.wav'): {}, WindowsPath('audio/en_7_norm_+2.7db.wav'): {}, WindowsPath('audio/en_8_norm_+8.3db.wav'): {}}, 'openai/whisper-large-v2': {WindowsPath('audio/en_0_norm_-5.0db.wav'): {}, WindowsPath('audio/en_1_norm_-5.8db.wav'): {}, WindowsPath('audio/en_2_norm_+1.2db.wav'): {}, WindowsPath('audio/en_3_norm_-3.1db.wav'): {}, WindowsPath('audio/en_4_norm_-0.6db.wav'): {}, WindowsPath('audio/en_5_norm_-1.3db.wav'): {}, WindowsPath('audio/en_6_norm_-2.0db.wav'): {}, WindowsPath('audio/en_7_norm_+2.7db.wav'): {}, WindowsPath('audio/en_8_norm_+8.3db.wav'): {}}, 'openai/whisper-large-v3': {WindowsPath('audio/en_0_norm_-5.0db.wav'): {}, WindowsPath('audio/en_1_norm_-5.8db.wav'): {}, WindowsPath('audio/en_2_norm_+1.2db.wav'): {}, WindowsPath('audio/en_3_norm_-3.1db.wav'): {}, WindowsPath('audio/en_4_norm_-0.6db.wav'): {}, WindowsPath('audio/en_5_norm_-1.3db.wav'): {}, WindowsPath('audio/en_6_norm_-2.0db.wav'): {}, WindowsPath('audio/en_7_norm_+2.7db.wav'): {}, WindowsPath('audio/en_8_norm_+8.3db.wav'): {}}, 'openai/whisper-large-v3-turbo': {WindowsPath('audio/en_0_norm_-5.0db.wav'): {}, WindowsPath('audio/en_1_norm_-5.8db.wav'): {}, WindowsPath('audio/en_2_norm_+1.2db.wav'): {}, WindowsPath('audio/en_3_norm_-3.1db.wav'): {}, WindowsPath('audio/en_4_norm_-0.6db.wav'): {}, WindowsPath('audio/en_5_norm_-1.3db.wav'): {}, WindowsPath('audio/en_6_norm_-2.0db.wav'): {}, WindowsPath('audio/en_7_norm_+2.7db.wav'): {}, WindowsPath('audio/en_8_norm_+8.3db.wav'): {}}}, 'es': {'openai/whisper-tiny': {WindowsPath('audio/es_0_norm_-5.8db.wav'): {}, WindowsPath('audio/es_1_norm_-6.5db.wav'): {}, WindowsPath('audio/es_2_norm_+2.4db.wav'): {}, WindowsPath('audio/es_3_norm_-3.6db.wav'): {}, WindowsPath('audio/es_4_norm_-2.1db.wav'): {}, WindowsPath('audio/es_5_norm_-0.6db.wav'): {}, WindowsPath('audio/es_6_norm_-2.7db.wav'): {}, WindowsPath('audio/es_7_norm_+3.1db.wav'): {}, WindowsPath('audio/es_8_norm_+8.2db.wav'): {}}, 'openai/whisper-base': {WindowsPath('audio/es_0_norm_-5.8db.wav'): {}, WindowsPath('audio/es_1_norm_-6.5db.wav'): {}, WindowsPath('audio/es_2_norm_+2.4db.wav'): {}, WindowsPath('audio/es_3_norm_-3.6db.wav'): {}, WindowsPath('audio/es_4_norm_-2.1db.wav'): {}, WindowsPath('audio/es_5_norm_-0.6db.wav'): {}, WindowsPath('audio/es_6_norm_-2.7db.wav'): {}, WindowsPath('audio/es_7_norm_+3.1db.wav'): {}, WindowsPath('audio/es_8_norm_+8.2db.wav'): {}}, 'openai/whisper-small': {WindowsPath('audio/es_0_norm_-5.8db.wav'): {}, WindowsPath('audio/es_1_norm_-6.5db.wav'): {}, WindowsPath('audio/es_2_norm_+2.4db.wav'): {}, WindowsPath('audio/es_3_norm_-3.6db.wav'): {}, WindowsPath('audio/es_4_norm_-2.1db.wav'): {}, WindowsPath('audio/es_5_norm_-0.6db.wav'): {}, WindowsPath('audio/es_6_norm_-2.7db.wav'): {}, WindowsPath('audio/es_7_norm_+3.1db.wav'): {}, WindowsPath('audio/es_8_norm_+8.2db.wav'): {}}, 'openai/whisper-medium': {WindowsPath('audio/es_0_norm_-5.8db.wav'): {}, WindowsPath('audio/es_1_norm_-6.5db.wav'): {}, WindowsPath('audio/es_2_norm_+2.4db.wav'): {}, WindowsPath('audio/es_3_norm_-3.6db.wav'): {}, WindowsPath('audio/es_4_norm_-2.1db.wav'): {}, WindowsPath('audio/es_5_norm_-0.6db.wav'): {}, WindowsPath('audio/es_6_norm_-2.7db.wav'): {}, WindowsPath('audio/es_7_norm_+3.1db.wav'): {}, WindowsPath('audio/es_8_norm_+8.2db.wav'): {}}, 'openai/whisper-large': {WindowsPath('audio/es_0_norm_-5.8db.wav'): {}, WindowsPath('audio/es_1_norm_-6.5db.wav'): {}, WindowsPath('audio/es_2_norm_+2.4db.wav'): {}, WindowsPath('audio/es_3_norm_-3.6db.wav'): {}, WindowsPath('audio/es_4_norm_-2.1db.wav'): {}, WindowsPath('audio/es_5_norm_-0.6db.wav'): {}, WindowsPath('audio/es_6_norm_-2.7db.wav'): {}, WindowsPath('audio/es_7_norm_+3.1db.wav'): {}, WindowsPath('audio/es_8_norm_+8.2db.wav'): {}}, 'openai/whisper-large-v2': {WindowsPath('audio/es_0_norm_-5.8db.wav'): {}, WindowsPath('audio/es_1_norm_-6.5db.wav'): {}, WindowsPath('audio/es_2_norm_+2.4db.wav'): {}, WindowsPath('audio/es_3_norm_-3.6db.wav'): {}, WindowsPath('audio/es_4_norm_-2.1db.wav'): {}, WindowsPath('audio/es_5_norm_-0.6db.wav'): {}, WindowsPath('audio/es_6_norm_-2.7db.wav'): {}, WindowsPath('audio/es_7_norm_+3.1db.wav'): {}, WindowsPath('audio/es_8_norm_+8.2db.wav'): {}}, 'openai/whisper-large-v3': {WindowsPath('audio/es_0_norm_-5.8db.wav'): {}, WindowsPath('audio/es_1_norm_-6.5db.wav'): {}, WindowsPath('audio/es_2_norm_+2.4db.wav'): {}, WindowsPath('audio/es_3_norm_-3.6db.wav'): {}, WindowsPath('audio/es_4_norm_-2.1db.wav'): {}, WindowsPath('audio/es_5_norm_-0.6db.wav'): {}, WindowsPath('audio/es_6_norm_-2.7db.wav'): {}, WindowsPath('audio/es_7_norm_+3.1db.wav'): {}, WindowsPath('audio/es_8_norm_+8.2db.wav'): {}}, 'openai/whisper-large-v3-turbo': {WindowsPath('audio/es_0_norm_-5.8db.wav'): {}, WindowsPath('audio/es_1_norm_-6.5db.wav'): {}, WindowsPath('audio/es_2_norm_+2.4db.wav'): {}, WindowsPath('audio/es_3_norm_-3.6db.wav'): {}, WindowsPath('audio/es_4_norm_-2.1db.wav'): {}, WindowsPath('audio/es_5_norm_-0.6db.wav'): {}, WindowsPath('audio/es_6_norm_-2.7db.wav'): {}, WindowsPath('audio/es_7_norm_+3.1db.wav'): {}, WindowsPath('audio/es_8_norm_+8.2db.wav'): {}}}, 'de': {'openai/whisper-tiny': {WindowsPath('audio/de_0_norm_-1.5db.wav'): {}, WindowsPath('audio/de_1_norm_-2.4db.wav'): {}, WindowsPath('audio/de_2_norm_+9.1db.wav'): {}, WindowsPath('audio/de_3_norm_+0.1db.wav'): {}, WindowsPath('audio/de_4_norm_+2.5db.wav'): {}, WindowsPath('audio/de_5_norm_+1.6db.wav'): {}, WindowsPath('audio/de_6_norm_-1.3db.wav'): {}, WindowsPath('audio/de_7_norm_+4.5db.wav'): {}, WindowsPath('audio/de_8_norm_+9.6db.wav'): {}}, 'openai/whisper-base': {WindowsPath('audio/de_0_norm_-1.5db.wav'): {}, WindowsPath('audio/de_1_norm_-2.4db.wav'): {}, WindowsPath('audio/de_2_norm_+9.1db.wav'): {}, WindowsPath('audio/de_3_norm_+0.1db.wav'): {}, WindowsPath('audio/de_4_norm_+2.5db.wav'): {}, WindowsPath('audio/de_5_norm_+1.6db.wav'): {}, WindowsPath('audio/de_6_norm_-1.3db.wav'): {}, WindowsPath('audio/de_7_norm_+4.5db.wav'): {}, WindowsPath('audio/de_8_norm_+9.6db.wav'): {}}, 'openai/whisper-small': {WindowsPath('audio/de_0_norm_-1.5db.wav'): {}, WindowsPath('audio/de_1_norm_-2.4db.wav'): {}, WindowsPath('audio/de_2_norm_+9.1db.wav'): {}, WindowsPath('audio/de_3_norm_+0.1db.wav'): {}, WindowsPath('audio/de_4_norm_+2.5db.wav'): {}, WindowsPath('audio/de_5_norm_+1.6db.wav'): {}, WindowsPath('audio/de_6_norm_-1.3db.wav'): {}, WindowsPath('audio/de_7_norm_+4.5db.wav'): {}, WindowsPath('audio/de_8_norm_+9.6db.wav'): {}}, 'openai/whisper-medium': {WindowsPath('audio/de_0_norm_-1.5db.wav'): {}, WindowsPath('audio/de_1_norm_-2.4db.wav'): {}, WindowsPath('audio/de_2_norm_+9.1db.wav'): {}, WindowsPath('audio/de_3_norm_+0.1db.wav'): {}, WindowsPath('audio/de_4_norm_+2.5db.wav'): {}, WindowsPath('audio/de_5_norm_+1.6db.wav'): {}, WindowsPath('audio/de_6_norm_-1.3db.wav'): {}, WindowsPath('audio/de_7_norm_+4.5db.wav'): {}, WindowsPath('audio/de_8_norm_+9.6db.wav'): {}}, 'openai/whisper-large': {WindowsPath('audio/de_0_norm_-1.5db.wav'): {}, WindowsPath('audio/de_1_norm_-2.4db.wav'): {}, WindowsPath('audio/de_2_norm_+9.1db.wav'): {}, WindowsPath('audio/de_3_norm_+0.1db.wav'): {}, WindowsPath('audio/de_4_norm_+2.5db.wav'): {}, WindowsPath('audio/de_5_norm_+1.6db.wav'): {}, WindowsPath('audio/de_6_norm_-1.3db.wav'): {}, WindowsPath('audio/de_7_norm_+4.5db.wav'): {}, WindowsPath('audio/de_8_norm_+9.6db.wav'): {}}, 'openai/whisper-large-v2': {WindowsPath('audio/de_0_norm_-1.5db.wav'): {}, WindowsPath('audio/de_1_norm_-2.4db.wav'): {}, WindowsPath('audio/de_2_norm_+9.1db.wav'): {}, WindowsPath('audio/de_3_norm_+0.1db.wav'): {}, WindowsPath('audio/de_4_norm_+2.5db.wav'): {}, WindowsPath('audio/de_5_norm_+1.6db.wav'): {}, WindowsPath('audio/de_6_norm_-1.3db.wav'): {}, WindowsPath('audio/de_7_norm_+4.5db.wav'): {}, WindowsPath('audio/de_8_norm_+9.6db.wav'): {}}, 'openai/whisper-large-v3': {WindowsPath('audio/de_0_norm_-1.5db.wav'): {}, WindowsPath('audio/de_1_norm_-2.4db.wav'): {}, WindowsPath('audio/de_2_norm_+9.1db.wav'): {}, WindowsPath('audio/de_3_norm_+0.1db.wav'): {}, WindowsPath('audio/de_4_norm_+2.5db.wav'): {}, WindowsPath('audio/de_5_norm_+1.6db.wav'): {}, WindowsPath('audio/de_6_norm_-1.3db.wav'): {}, WindowsPath('audio/de_7_norm_+4.5db.wav'): {}, WindowsPath('audio/de_8_norm_+9.6db.wav'): {}}, 'openai/whisper-large-v3-turbo': {WindowsPath('audio/de_0_norm_-1.5db.wav'): {}, WindowsPath('audio/de_1_norm_-2.4db.wav'): {}, WindowsPath('audio/de_2_norm_+9.1db.wav'): {}, WindowsPath('audio/de_3_norm_+0.1db.wav'): {}, WindowsPath('audio/de_4_norm_+2.5db.wav'): {}, WindowsPath('audio/de_5_norm_+1.6db.wav'): {}, WindowsPath('audio/de_6_norm_-1.3db.wav'): {}, WindowsPath('audio/de_7_norm_+4.5db.wav'): {}, WindowsPath('audio/de_8_norm_+9.6db.wav'): {}}}}\n"
     ]
    }
   ],
   "source": [
    "# Recherche des langues souhaitées\n",
    "langues = texts.keys()\n",
    "\n",
    "# Recherche des fichiers audio correspondants\n",
    "audio_files = {\n",
    "    l: [\n",
    "        f\n",
    "        for f in Path(\"audio\").glob(f\"{l}_*_norm*.wav\")\n",
    "        if f.is_file() and f.stat().st_size > 0\n",
    "    ]\n",
    "    for l in langues\n",
    "}\n",
    "\n",
    "# Mise à jour des langues, selon les fichiers trouvés dans le répertoire audio\n",
    "langues = list(audio_files.keys())\n",
    "\n",
    "# Initialisation de la variables resultat\n",
    "if not langues:\n",
    "    print(\"Aucun fichier audio trouvé dans le répertoire 'audio'\")\n",
    "else:\n",
    "    # Créer un dictionnaire de résultats en tenant compte de chaque fichier présent dans \"audio\"\n",
    "    results = {\n",
    "        langue: {\n",
    "            model_id: {f: {} for f in audio_files[langue]} for model_id in model_ids\n",
    "        }\n",
    "        for langue in langues\n",
    "    }\n",
    "    print(f\"Langues : {langues}\")"
   ]
  },
  {
   "cell_type": "markdown",
   "metadata": {},
   "source": [
    "### Boucles de transcription"
   ]
  },
  {
   "cell_type": "code",
   "execution_count": 31,
   "metadata": {},
   "outputs": [
    {
     "name": "stdout",
     "output_type": "stream",
     "text": [
      "Testing language fr...\n",
      "\tTesting model openai/whisper-tiny...\n",
      "\t\tTesting file audio\\fr_0_norm_+2.7db.wav...\n",
      "Testing model openai/whisper-tiny...\n"
     ]
    },
    {
     "name": "stderr",
     "output_type": "stream",
     "text": [
      "Device set to use cpu\n"
     ]
    },
    {
     "name": "stdout",
     "output_type": "stream",
     "text": [
      "\t\tTesting file audio\\fr_1_norm_+1.9db.wav...\n",
      "Testing model openai/whisper-tiny...\n"
     ]
    },
    {
     "name": "stderr",
     "output_type": "stream",
     "text": [
      "Device set to use cpu\n"
     ]
    },
    {
     "name": "stdout",
     "output_type": "stream",
     "text": [
      "\t\tTesting file audio\\fr_2_norm_+7.7db.wav...\n",
      "Testing model openai/whisper-tiny...\n"
     ]
    },
    {
     "name": "stderr",
     "output_type": "stream",
     "text": [
      "Device set to use cpu\n"
     ]
    },
    {
     "name": "stdout",
     "output_type": "stream",
     "text": [
      "\t\tTesting file audio\\fr_3_norm_+0.3db.wav...\n",
      "Testing model openai/whisper-tiny...\n"
     ]
    },
    {
     "name": "stderr",
     "output_type": "stream",
     "text": [
      "Device set to use cpu\n"
     ]
    },
    {
     "name": "stdout",
     "output_type": "stream",
     "text": [
      "\t\tTesting file audio\\fr_4_norm_+6.7db.wav...\n",
      "Testing model openai/whisper-tiny...\n"
     ]
    },
    {
     "name": "stderr",
     "output_type": "stream",
     "text": [
      "Device set to use cpu\n"
     ]
    },
    {
     "name": "stdout",
     "output_type": "stream",
     "text": [
      "\t\tTesting file audio\\fr_5_norm_+3.0db.wav...\n",
      "Testing model openai/whisper-tiny...\n"
     ]
    },
    {
     "name": "stderr",
     "output_type": "stream",
     "text": [
      "Device set to use cpu\n"
     ]
    },
    {
     "name": "stdout",
     "output_type": "stream",
     "text": [
      "\t\tTesting file audio\\fr_6_norm_-1.2db.wav...\n",
      "Testing model openai/whisper-tiny...\n"
     ]
    },
    {
     "name": "stderr",
     "output_type": "stream",
     "text": [
      "Device set to use cpu\n"
     ]
    },
    {
     "name": "stdout",
     "output_type": "stream",
     "text": [
      "\t\tTesting file audio\\fr_7_norm_+4.5db.wav...\n",
      "Testing model openai/whisper-tiny...\n"
     ]
    },
    {
     "name": "stderr",
     "output_type": "stream",
     "text": [
      "Device set to use cpu\n",
      "Whisper did not predict an ending timestamp, which can happen if audio is cut off in the middle of a word. Also make sure WhisperTimeStampLogitsProcessor was used during generation.\n"
     ]
    },
    {
     "name": "stdout",
     "output_type": "stream",
     "text": [
      "\t\tTesting file audio\\fr_8_norm_+9.8db.wav...\n",
      "Testing model openai/whisper-tiny...\n"
     ]
    },
    {
     "name": "stderr",
     "output_type": "stream",
     "text": [
      "Device set to use cpu\n",
      "Whisper did not predict an ending timestamp, which can happen if audio is cut off in the middle of a word. Also make sure WhisperTimeStampLogitsProcessor was used during generation.\n"
     ]
    },
    {
     "name": "stdout",
     "output_type": "stream",
     "text": [
      "\tTesting model openai/whisper-base...\n",
      "\t\tTesting file audio\\fr_0_norm_+2.7db.wav...\n",
      "Testing model openai/whisper-base...\n"
     ]
    },
    {
     "name": "stderr",
     "output_type": "stream",
     "text": [
      "Device set to use cpu\n"
     ]
    },
    {
     "name": "stdout",
     "output_type": "stream",
     "text": [
      "\t\tTesting file audio\\fr_1_norm_+1.9db.wav...\n",
      "Testing model openai/whisper-base...\n"
     ]
    },
    {
     "name": "stderr",
     "output_type": "stream",
     "text": [
      "Device set to use cpu\n",
      "Whisper did not predict an ending timestamp, which can happen if audio is cut off in the middle of a word. Also make sure WhisperTimeStampLogitsProcessor was used during generation.\n"
     ]
    },
    {
     "name": "stdout",
     "output_type": "stream",
     "text": [
      "\t\tTesting file audio\\fr_2_norm_+7.7db.wav...\n",
      "Testing model openai/whisper-base...\n"
     ]
    },
    {
     "name": "stderr",
     "output_type": "stream",
     "text": [
      "Device set to use cpu\n",
      "Whisper did not predict an ending timestamp, which can happen if audio is cut off in the middle of a word. Also make sure WhisperTimeStampLogitsProcessor was used during generation.\n"
     ]
    },
    {
     "name": "stdout",
     "output_type": "stream",
     "text": [
      "\t\tTesting file audio\\fr_3_norm_+0.3db.wav...\n",
      "Testing model openai/whisper-base...\n"
     ]
    },
    {
     "name": "stderr",
     "output_type": "stream",
     "text": [
      "Device set to use cpu\n"
     ]
    },
    {
     "name": "stdout",
     "output_type": "stream",
     "text": [
      "\t\tTesting file audio\\fr_4_norm_+6.7db.wav...\n",
      "Testing model openai/whisper-base...\n"
     ]
    },
    {
     "name": "stderr",
     "output_type": "stream",
     "text": [
      "Device set to use cpu\n",
      "Whisper did not predict an ending timestamp, which can happen if audio is cut off in the middle of a word. Also make sure WhisperTimeStampLogitsProcessor was used during generation.\n"
     ]
    },
    {
     "name": "stdout",
     "output_type": "stream",
     "text": [
      "\t\tTesting file audio\\fr_5_norm_+3.0db.wav...\n",
      "Testing model openai/whisper-base...\n"
     ]
    },
    {
     "name": "stderr",
     "output_type": "stream",
     "text": [
      "Device set to use cpu\n"
     ]
    },
    {
     "name": "stdout",
     "output_type": "stream",
     "text": [
      "\t\tTesting file audio\\fr_6_norm_-1.2db.wav...\n",
      "Testing model openai/whisper-base...\n"
     ]
    },
    {
     "name": "stderr",
     "output_type": "stream",
     "text": [
      "Device set to use cpu\n",
      "Whisper did not predict an ending timestamp, which can happen if audio is cut off in the middle of a word. Also make sure WhisperTimeStampLogitsProcessor was used during generation.\n"
     ]
    },
    {
     "name": "stdout",
     "output_type": "stream",
     "text": [
      "\t\tTesting file audio\\fr_7_norm_+4.5db.wav...\n",
      "Testing model openai/whisper-base...\n"
     ]
    },
    {
     "name": "stderr",
     "output_type": "stream",
     "text": [
      "Device set to use cpu\n",
      "Whisper did not predict an ending timestamp, which can happen if audio is cut off in the middle of a word. Also make sure WhisperTimeStampLogitsProcessor was used during generation.\n"
     ]
    },
    {
     "name": "stdout",
     "output_type": "stream",
     "text": [
      "\t\tTesting file audio\\fr_8_norm_+9.8db.wav...\n",
      "Testing model openai/whisper-base...\n"
     ]
    },
    {
     "name": "stderr",
     "output_type": "stream",
     "text": [
      "Device set to use cpu\n"
     ]
    },
    {
     "name": "stdout",
     "output_type": "stream",
     "text": [
      "\tTesting model openai/whisper-small...\n",
      "\t\tTesting file audio\\fr_0_norm_+2.7db.wav...\n",
      "Testing model openai/whisper-small...\n"
     ]
    },
    {
     "name": "stderr",
     "output_type": "stream",
     "text": [
      "Device set to use cpu\n",
      "Whisper did not predict an ending timestamp, which can happen if audio is cut off in the middle of a word. Also make sure WhisperTimeStampLogitsProcessor was used during generation.\n"
     ]
    },
    {
     "name": "stdout",
     "output_type": "stream",
     "text": [
      "\t\tTesting file audio\\fr_1_norm_+1.9db.wav...\n",
      "Testing model openai/whisper-small...\n"
     ]
    },
    {
     "name": "stderr",
     "output_type": "stream",
     "text": [
      "Device set to use cpu\n"
     ]
    },
    {
     "name": "stdout",
     "output_type": "stream",
     "text": [
      "\t\tTesting file audio\\fr_2_norm_+7.7db.wav...\n",
      "Testing model openai/whisper-small...\n"
     ]
    },
    {
     "name": "stderr",
     "output_type": "stream",
     "text": [
      "Device set to use cpu\n"
     ]
    },
    {
     "name": "stdout",
     "output_type": "stream",
     "text": [
      "\t\tTesting file audio\\fr_3_norm_+0.3db.wav...\n",
      "Testing model openai/whisper-small...\n"
     ]
    },
    {
     "name": "stderr",
     "output_type": "stream",
     "text": [
      "Device set to use cpu\n"
     ]
    },
    {
     "name": "stdout",
     "output_type": "stream",
     "text": [
      "\t\tTesting file audio\\fr_4_norm_+6.7db.wav...\n",
      "Testing model openai/whisper-small...\n"
     ]
    },
    {
     "name": "stderr",
     "output_type": "stream",
     "text": [
      "Device set to use cpu\n"
     ]
    },
    {
     "name": "stdout",
     "output_type": "stream",
     "text": [
      "\t\tTesting file audio\\fr_5_norm_+3.0db.wav...\n",
      "Testing model openai/whisper-small...\n"
     ]
    },
    {
     "name": "stderr",
     "output_type": "stream",
     "text": [
      "Device set to use cpu\n"
     ]
    },
    {
     "name": "stdout",
     "output_type": "stream",
     "text": [
      "\t\tTesting file audio\\fr_6_norm_-1.2db.wav...\n",
      "Testing model openai/whisper-small...\n"
     ]
    },
    {
     "name": "stderr",
     "output_type": "stream",
     "text": [
      "Device set to use cpu\n"
     ]
    },
    {
     "name": "stdout",
     "output_type": "stream",
     "text": [
      "\t\tTesting file audio\\fr_7_norm_+4.5db.wav...\n",
      "Testing model openai/whisper-small...\n"
     ]
    },
    {
     "name": "stderr",
     "output_type": "stream",
     "text": [
      "Device set to use cpu\n"
     ]
    },
    {
     "name": "stdout",
     "output_type": "stream",
     "text": [
      "\t\tTesting file audio\\fr_8_norm_+9.8db.wav...\n",
      "Testing model openai/whisper-small...\n"
     ]
    },
    {
     "name": "stderr",
     "output_type": "stream",
     "text": [
      "Device set to use cpu\n"
     ]
    },
    {
     "name": "stdout",
     "output_type": "stream",
     "text": [
      "\tTesting model openai/whisper-medium...\n",
      "\t\tTesting file audio\\fr_0_norm_+2.7db.wav...\n",
      "Testing model openai/whisper-medium...\n"
     ]
    },
    {
     "name": "stderr",
     "output_type": "stream",
     "text": [
      "Device set to use cpu\n"
     ]
    },
    {
     "name": "stdout",
     "output_type": "stream",
     "text": [
      "\t\tTesting file audio\\fr_1_norm_+1.9db.wav...\n",
      "Testing model openai/whisper-medium...\n"
     ]
    },
    {
     "name": "stderr",
     "output_type": "stream",
     "text": [
      "Device set to use cpu\n"
     ]
    },
    {
     "name": "stdout",
     "output_type": "stream",
     "text": [
      "\t\tTesting file audio\\fr_2_norm_+7.7db.wav...\n",
      "Testing model openai/whisper-medium...\n"
     ]
    },
    {
     "name": "stderr",
     "output_type": "stream",
     "text": [
      "Device set to use cpu\n"
     ]
    },
    {
     "name": "stdout",
     "output_type": "stream",
     "text": [
      "\t\tTesting file audio\\fr_3_norm_+0.3db.wav...\n",
      "Testing model openai/whisper-medium...\n"
     ]
    },
    {
     "name": "stderr",
     "output_type": "stream",
     "text": [
      "Device set to use cpu\n"
     ]
    },
    {
     "name": "stdout",
     "output_type": "stream",
     "text": [
      "\t\tTesting file audio\\fr_4_norm_+6.7db.wav...\n",
      "Testing model openai/whisper-medium...\n"
     ]
    },
    {
     "name": "stderr",
     "output_type": "stream",
     "text": [
      "Device set to use cpu\n",
      "Whisper did not predict an ending timestamp, which can happen if audio is cut off in the middle of a word. Also make sure WhisperTimeStampLogitsProcessor was used during generation.\n"
     ]
    },
    {
     "name": "stdout",
     "output_type": "stream",
     "text": [
      "\t\tTesting file audio\\fr_5_norm_+3.0db.wav...\n",
      "Testing model openai/whisper-medium...\n"
     ]
    },
    {
     "name": "stderr",
     "output_type": "stream",
     "text": [
      "Device set to use cpu\n"
     ]
    },
    {
     "name": "stdout",
     "output_type": "stream",
     "text": [
      "\t\tTesting file audio\\fr_6_norm_-1.2db.wav...\n",
      "Testing model openai/whisper-medium...\n"
     ]
    },
    {
     "name": "stderr",
     "output_type": "stream",
     "text": [
      "Device set to use cpu\n"
     ]
    },
    {
     "name": "stdout",
     "output_type": "stream",
     "text": [
      "\t\tTesting file audio\\fr_7_norm_+4.5db.wav...\n",
      "Testing model openai/whisper-medium...\n"
     ]
    },
    {
     "name": "stderr",
     "output_type": "stream",
     "text": [
      "Device set to use cpu\n"
     ]
    },
    {
     "name": "stdout",
     "output_type": "stream",
     "text": [
      "\t\tTesting file audio\\fr_8_norm_+9.8db.wav...\n",
      "Testing model openai/whisper-medium...\n"
     ]
    },
    {
     "name": "stderr",
     "output_type": "stream",
     "text": [
      "Device set to use cpu\n"
     ]
    },
    {
     "name": "stdout",
     "output_type": "stream",
     "text": [
      "\tTesting model openai/whisper-large...\n",
      "\t\tTesting file audio\\fr_0_norm_+2.7db.wav...\n",
      "Testing model openai/whisper-large...\n"
     ]
    },
    {
     "name": "stderr",
     "output_type": "stream",
     "text": [
      "Device set to use cpu\n",
      "Whisper did not predict an ending timestamp, which can happen if audio is cut off in the middle of a word. Also make sure WhisperTimeStampLogitsProcessor was used during generation.\n"
     ]
    },
    {
     "name": "stdout",
     "output_type": "stream",
     "text": [
      "\t\tTesting file audio\\fr_1_norm_+1.9db.wav...\n",
      "Testing model openai/whisper-large...\n"
     ]
    },
    {
     "name": "stderr",
     "output_type": "stream",
     "text": [
      "Device set to use cpu\n"
     ]
    },
    {
     "name": "stdout",
     "output_type": "stream",
     "text": [
      "\t\tTesting file audio\\fr_2_norm_+7.7db.wav...\n",
      "Testing model openai/whisper-large...\n"
     ]
    },
    {
     "name": "stderr",
     "output_type": "stream",
     "text": [
      "Device set to use cpu\n"
     ]
    },
    {
     "name": "stdout",
     "output_type": "stream",
     "text": [
      "\t\tTesting file audio\\fr_3_norm_+0.3db.wav...\n",
      "Testing model openai/whisper-large...\n"
     ]
    },
    {
     "name": "stderr",
     "output_type": "stream",
     "text": [
      "Device set to use cpu\n"
     ]
    },
    {
     "name": "stdout",
     "output_type": "stream",
     "text": [
      "\t\tTesting file audio\\fr_4_norm_+6.7db.wav...\n",
      "Testing model openai/whisper-large...\n"
     ]
    },
    {
     "name": "stderr",
     "output_type": "stream",
     "text": [
      "Device set to use cpu\n"
     ]
    },
    {
     "name": "stdout",
     "output_type": "stream",
     "text": [
      "\t\tTesting file audio\\fr_5_norm_+3.0db.wav...\n",
      "Testing model openai/whisper-large...\n"
     ]
    },
    {
     "name": "stderr",
     "output_type": "stream",
     "text": [
      "Device set to use cpu\n",
      "Whisper did not predict an ending timestamp, which can happen if audio is cut off in the middle of a word. Also make sure WhisperTimeStampLogitsProcessor was used during generation.\n"
     ]
    },
    {
     "name": "stdout",
     "output_type": "stream",
     "text": [
      "\t\tTesting file audio\\fr_6_norm_-1.2db.wav...\n",
      "Testing model openai/whisper-large...\n"
     ]
    },
    {
     "name": "stderr",
     "output_type": "stream",
     "text": [
      "Device set to use cpu\n"
     ]
    },
    {
     "name": "stdout",
     "output_type": "stream",
     "text": [
      "\t\tTesting file audio\\fr_7_norm_+4.5db.wav...\n",
      "Testing model openai/whisper-large...\n"
     ]
    },
    {
     "name": "stderr",
     "output_type": "stream",
     "text": [
      "Device set to use cpu\n"
     ]
    },
    {
     "name": "stdout",
     "output_type": "stream",
     "text": [
      "\t\tTesting file audio\\fr_8_norm_+9.8db.wav...\n",
      "Testing model openai/whisper-large...\n"
     ]
    },
    {
     "name": "stderr",
     "output_type": "stream",
     "text": [
      "Device set to use cpu\n"
     ]
    },
    {
     "name": "stdout",
     "output_type": "stream",
     "text": [
      "\tTesting model openai/whisper-large-v2...\n",
      "\t\tTesting file audio\\fr_0_norm_+2.7db.wav...\n",
      "Testing model openai/whisper-large-v2...\n"
     ]
    },
    {
     "name": "stderr",
     "output_type": "stream",
     "text": [
      "Device set to use cpu\n"
     ]
    },
    {
     "name": "stdout",
     "output_type": "stream",
     "text": [
      "\t\tTesting file audio\\fr_1_norm_+1.9db.wav...\n",
      "Testing model openai/whisper-large-v2...\n"
     ]
    },
    {
     "name": "stderr",
     "output_type": "stream",
     "text": [
      "Device set to use cpu\n"
     ]
    },
    {
     "name": "stdout",
     "output_type": "stream",
     "text": [
      "\t\tTesting file audio\\fr_2_norm_+7.7db.wav...\n",
      "Testing model openai/whisper-large-v2...\n"
     ]
    },
    {
     "name": "stderr",
     "output_type": "stream",
     "text": [
      "Device set to use cpu\n",
      "Whisper did not predict an ending timestamp, which can happen if audio is cut off in the middle of a word. Also make sure WhisperTimeStampLogitsProcessor was used during generation.\n"
     ]
    },
    {
     "name": "stdout",
     "output_type": "stream",
     "text": [
      "\t\tTesting file audio\\fr_3_norm_+0.3db.wav...\n",
      "Testing model openai/whisper-large-v2...\n"
     ]
    },
    {
     "name": "stderr",
     "output_type": "stream",
     "text": [
      "Device set to use cpu\n",
      "Whisper did not predict an ending timestamp, which can happen if audio is cut off in the middle of a word. Also make sure WhisperTimeStampLogitsProcessor was used during generation.\n"
     ]
    },
    {
     "name": "stdout",
     "output_type": "stream",
     "text": [
      "\t\tTesting file audio\\fr_4_norm_+6.7db.wav...\n",
      "Testing model openai/whisper-large-v2...\n"
     ]
    },
    {
     "name": "stderr",
     "output_type": "stream",
     "text": [
      "Device set to use cpu\n"
     ]
    },
    {
     "name": "stdout",
     "output_type": "stream",
     "text": [
      "\t\tTesting file audio\\fr_5_norm_+3.0db.wav...\n",
      "Testing model openai/whisper-large-v2...\n"
     ]
    },
    {
     "name": "stderr",
     "output_type": "stream",
     "text": [
      "Device set to use cpu\n"
     ]
    },
    {
     "name": "stdout",
     "output_type": "stream",
     "text": [
      "\t\tTesting file audio\\fr_6_norm_-1.2db.wav...\n",
      "Testing model openai/whisper-large-v2...\n"
     ]
    },
    {
     "name": "stderr",
     "output_type": "stream",
     "text": [
      "Device set to use cpu\n",
      "Whisper did not predict an ending timestamp, which can happen if audio is cut off in the middle of a word. Also make sure WhisperTimeStampLogitsProcessor was used during generation.\n"
     ]
    },
    {
     "name": "stdout",
     "output_type": "stream",
     "text": [
      "\t\tTesting file audio\\fr_7_norm_+4.5db.wav...\n",
      "Testing model openai/whisper-large-v2...\n"
     ]
    },
    {
     "name": "stderr",
     "output_type": "stream",
     "text": [
      "Device set to use cpu\n"
     ]
    },
    {
     "name": "stdout",
     "output_type": "stream",
     "text": [
      "\t\tTesting file audio\\fr_8_norm_+9.8db.wav...\n",
      "Testing model openai/whisper-large-v2...\n"
     ]
    },
    {
     "name": "stderr",
     "output_type": "stream",
     "text": [
      "Device set to use cpu\n",
      "Whisper did not predict an ending timestamp, which can happen if audio is cut off in the middle of a word. Also make sure WhisperTimeStampLogitsProcessor was used during generation.\n"
     ]
    },
    {
     "name": "stdout",
     "output_type": "stream",
     "text": [
      "\tTesting model openai/whisper-large-v3...\n",
      "\t\tTesting file audio\\fr_0_norm_+2.7db.wav...\n",
      "Testing model openai/whisper-large-v3...\n"
     ]
    },
    {
     "name": "stderr",
     "output_type": "stream",
     "text": [
      "Device set to use cpu\n"
     ]
    },
    {
     "name": "stdout",
     "output_type": "stream",
     "text": [
      "\t\tTesting file audio\\fr_1_norm_+1.9db.wav...\n",
      "Testing model openai/whisper-large-v3...\n"
     ]
    },
    {
     "name": "stderr",
     "output_type": "stream",
     "text": [
      "Device set to use cpu\n",
      "Whisper did not predict an ending timestamp, which can happen if audio is cut off in the middle of a word. Also make sure WhisperTimeStampLogitsProcessor was used during generation.\n"
     ]
    },
    {
     "name": "stdout",
     "output_type": "stream",
     "text": [
      "\t\tTesting file audio\\fr_2_norm_+7.7db.wav...\n",
      "Testing model openai/whisper-large-v3...\n"
     ]
    },
    {
     "name": "stderr",
     "output_type": "stream",
     "text": [
      "Device set to use cpu\n"
     ]
    },
    {
     "name": "stdout",
     "output_type": "stream",
     "text": [
      "\t\tTesting file audio\\fr_3_norm_+0.3db.wav...\n",
      "Testing model openai/whisper-large-v3...\n"
     ]
    },
    {
     "name": "stderr",
     "output_type": "stream",
     "text": [
      "Device set to use cpu\n"
     ]
    },
    {
     "name": "stdout",
     "output_type": "stream",
     "text": [
      "\t\tTesting file audio\\fr_4_norm_+6.7db.wav...\n",
      "Testing model openai/whisper-large-v3...\n"
     ]
    },
    {
     "name": "stderr",
     "output_type": "stream",
     "text": [
      "Device set to use cpu\n"
     ]
    },
    {
     "name": "stdout",
     "output_type": "stream",
     "text": [
      "\t\tTesting file audio\\fr_5_norm_+3.0db.wav...\n",
      "Testing model openai/whisper-large-v3...\n"
     ]
    },
    {
     "name": "stderr",
     "output_type": "stream",
     "text": [
      "Device set to use cpu\n"
     ]
    },
    {
     "name": "stdout",
     "output_type": "stream",
     "text": [
      "\t\tTesting file audio\\fr_6_norm_-1.2db.wav...\n",
      "Testing model openai/whisper-large-v3...\n"
     ]
    },
    {
     "name": "stderr",
     "output_type": "stream",
     "text": [
      "Device set to use cpu\n"
     ]
    },
    {
     "name": "stdout",
     "output_type": "stream",
     "text": [
      "\t\tTesting file audio\\fr_7_norm_+4.5db.wav...\n",
      "Testing model openai/whisper-large-v3...\n"
     ]
    },
    {
     "name": "stderr",
     "output_type": "stream",
     "text": [
      "Device set to use cpu\n"
     ]
    },
    {
     "name": "stdout",
     "output_type": "stream",
     "text": [
      "\t\tTesting file audio\\fr_8_norm_+9.8db.wav...\n",
      "Testing model openai/whisper-large-v3...\n"
     ]
    },
    {
     "name": "stderr",
     "output_type": "stream",
     "text": [
      "Device set to use cpu\n"
     ]
    },
    {
     "name": "stdout",
     "output_type": "stream",
     "text": [
      "\tTesting model openai/whisper-large-v3-turbo...\n",
      "\t\tTesting file audio\\fr_0_norm_+2.7db.wav...\n",
      "Testing model openai/whisper-large-v3-turbo...\n"
     ]
    },
    {
     "name": "stderr",
     "output_type": "stream",
     "text": [
      "Device set to use cpu\n"
     ]
    },
    {
     "name": "stdout",
     "output_type": "stream",
     "text": [
      "\t\tTesting file audio\\fr_1_norm_+1.9db.wav...\n",
      "Testing model openai/whisper-large-v3-turbo...\n"
     ]
    },
    {
     "name": "stderr",
     "output_type": "stream",
     "text": [
      "Device set to use cpu\n",
      "Whisper did not predict an ending timestamp, which can happen if audio is cut off in the middle of a word. Also make sure WhisperTimeStampLogitsProcessor was used during generation.\n"
     ]
    },
    {
     "name": "stdout",
     "output_type": "stream",
     "text": [
      "\t\tTesting file audio\\fr_2_norm_+7.7db.wav...\n",
      "Testing model openai/whisper-large-v3-turbo...\n"
     ]
    },
    {
     "name": "stderr",
     "output_type": "stream",
     "text": [
      "Device set to use cpu\n"
     ]
    },
    {
     "name": "stdout",
     "output_type": "stream",
     "text": [
      "\t\tTesting file audio\\fr_3_norm_+0.3db.wav...\n",
      "Testing model openai/whisper-large-v3-turbo...\n"
     ]
    },
    {
     "name": "stderr",
     "output_type": "stream",
     "text": [
      "Device set to use cpu\n",
      "Whisper did not predict an ending timestamp, which can happen if audio is cut off in the middle of a word. Also make sure WhisperTimeStampLogitsProcessor was used during generation.\n"
     ]
    },
    {
     "name": "stdout",
     "output_type": "stream",
     "text": [
      "\t\tTesting file audio\\fr_4_norm_+6.7db.wav...\n",
      "Testing model openai/whisper-large-v3-turbo...\n"
     ]
    },
    {
     "name": "stderr",
     "output_type": "stream",
     "text": [
      "Device set to use cpu\n"
     ]
    },
    {
     "name": "stdout",
     "output_type": "stream",
     "text": [
      "\t\tTesting file audio\\fr_5_norm_+3.0db.wav...\n",
      "Testing model openai/whisper-large-v3-turbo...\n"
     ]
    },
    {
     "name": "stderr",
     "output_type": "stream",
     "text": [
      "Device set to use cpu\n"
     ]
    },
    {
     "name": "stdout",
     "output_type": "stream",
     "text": [
      "\t\tTesting file audio\\fr_6_norm_-1.2db.wav...\n",
      "Testing model openai/whisper-large-v3-turbo...\n"
     ]
    },
    {
     "name": "stderr",
     "output_type": "stream",
     "text": [
      "Device set to use cpu\n"
     ]
    },
    {
     "name": "stdout",
     "output_type": "stream",
     "text": [
      "\t\tTesting file audio\\fr_7_norm_+4.5db.wav...\n",
      "Testing model openai/whisper-large-v3-turbo...\n"
     ]
    },
    {
     "name": "stderr",
     "output_type": "stream",
     "text": [
      "Device set to use cpu\n"
     ]
    },
    {
     "name": "stdout",
     "output_type": "stream",
     "text": [
      "\t\tTesting file audio\\fr_8_norm_+9.8db.wav...\n",
      "Testing model openai/whisper-large-v3-turbo...\n"
     ]
    },
    {
     "name": "stderr",
     "output_type": "stream",
     "text": [
      "Device set to use cpu\n"
     ]
    },
    {
     "name": "stdout",
     "output_type": "stream",
     "text": [
      "Testing language en...\n",
      "\tTesting model openai/whisper-tiny...\n",
      "\t\tTesting file audio\\en_0_norm_-5.0db.wav...\n",
      "Testing model openai/whisper-tiny...\n"
     ]
    },
    {
     "name": "stderr",
     "output_type": "stream",
     "text": [
      "Device set to use cpu\n",
      "Whisper did not predict an ending timestamp, which can happen if audio is cut off in the middle of a word. Also make sure WhisperTimeStampLogitsProcessor was used during generation.\n"
     ]
    },
    {
     "name": "stdout",
     "output_type": "stream",
     "text": [
      "\t\tTesting file audio\\en_1_norm_-5.8db.wav...\n",
      "Testing model openai/whisper-tiny...\n"
     ]
    },
    {
     "name": "stderr",
     "output_type": "stream",
     "text": [
      "Device set to use cpu\n",
      "Whisper did not predict an ending timestamp, which can happen if audio is cut off in the middle of a word. Also make sure WhisperTimeStampLogitsProcessor was used during generation.\n"
     ]
    },
    {
     "name": "stdout",
     "output_type": "stream",
     "text": [
      "\t\tTesting file audio\\en_2_norm_+1.2db.wav...\n",
      "Testing model openai/whisper-tiny...\n"
     ]
    },
    {
     "name": "stderr",
     "output_type": "stream",
     "text": [
      "Device set to use cpu\n",
      "Whisper did not predict an ending timestamp, which can happen if audio is cut off in the middle of a word. Also make sure WhisperTimeStampLogitsProcessor was used during generation.\n"
     ]
    },
    {
     "name": "stdout",
     "output_type": "stream",
     "text": [
      "\t\tTesting file audio\\en_3_norm_-3.1db.wav...\n",
      "Testing model openai/whisper-tiny...\n"
     ]
    },
    {
     "name": "stderr",
     "output_type": "stream",
     "text": [
      "Device set to use cpu\n",
      "Whisper did not predict an ending timestamp, which can happen if audio is cut off in the middle of a word. Also make sure WhisperTimeStampLogitsProcessor was used during generation.\n"
     ]
    },
    {
     "name": "stdout",
     "output_type": "stream",
     "text": [
      "\t\tTesting file audio\\en_4_norm_-0.6db.wav...\n",
      "Testing model openai/whisper-tiny...\n"
     ]
    },
    {
     "name": "stderr",
     "output_type": "stream",
     "text": [
      "Device set to use cpu\n",
      "Whisper did not predict an ending timestamp, which can happen if audio is cut off in the middle of a word. Also make sure WhisperTimeStampLogitsProcessor was used during generation.\n"
     ]
    },
    {
     "name": "stdout",
     "output_type": "stream",
     "text": [
      "\t\tTesting file audio\\en_5_norm_-1.3db.wav...\n",
      "Testing model openai/whisper-tiny...\n"
     ]
    },
    {
     "name": "stderr",
     "output_type": "stream",
     "text": [
      "Device set to use cpu\n",
      "Whisper did not predict an ending timestamp, which can happen if audio is cut off in the middle of a word. Also make sure WhisperTimeStampLogitsProcessor was used during generation.\n"
     ]
    },
    {
     "name": "stdout",
     "output_type": "stream",
     "text": [
      "\t\tTesting file audio\\en_6_norm_-2.0db.wav...\n",
      "Testing model openai/whisper-tiny...\n"
     ]
    },
    {
     "name": "stderr",
     "output_type": "stream",
     "text": [
      "Device set to use cpu\n",
      "Whisper did not predict an ending timestamp, which can happen if audio is cut off in the middle of a word. Also make sure WhisperTimeStampLogitsProcessor was used during generation.\n"
     ]
    },
    {
     "name": "stdout",
     "output_type": "stream",
     "text": [
      "\t\tTesting file audio\\en_7_norm_+2.7db.wav...\n",
      "Testing model openai/whisper-tiny...\n"
     ]
    },
    {
     "name": "stderr",
     "output_type": "stream",
     "text": [
      "Device set to use cpu\n",
      "Whisper did not predict an ending timestamp, which can happen if audio is cut off in the middle of a word. Also make sure WhisperTimeStampLogitsProcessor was used during generation.\n"
     ]
    },
    {
     "name": "stdout",
     "output_type": "stream",
     "text": [
      "\t\tTesting file audio\\en_8_norm_+8.3db.wav...\n",
      "Testing model openai/whisper-tiny...\n"
     ]
    },
    {
     "name": "stderr",
     "output_type": "stream",
     "text": [
      "Device set to use cpu\n"
     ]
    },
    {
     "name": "stdout",
     "output_type": "stream",
     "text": [
      "\tTesting model openai/whisper-base...\n",
      "\t\tTesting file audio\\en_0_norm_-5.0db.wav...\n",
      "Testing model openai/whisper-base...\n"
     ]
    },
    {
     "name": "stderr",
     "output_type": "stream",
     "text": [
      "Device set to use cpu\n",
      "Whisper did not predict an ending timestamp, which can happen if audio is cut off in the middle of a word. Also make sure WhisperTimeStampLogitsProcessor was used during generation.\n"
     ]
    },
    {
     "name": "stdout",
     "output_type": "stream",
     "text": [
      "\t\tTesting file audio\\en_1_norm_-5.8db.wav...\n",
      "Testing model openai/whisper-base...\n"
     ]
    },
    {
     "name": "stderr",
     "output_type": "stream",
     "text": [
      "Device set to use cpu\n"
     ]
    },
    {
     "name": "stdout",
     "output_type": "stream",
     "text": [
      "\t\tTesting file audio\\en_2_norm_+1.2db.wav...\n",
      "Testing model openai/whisper-base...\n"
     ]
    },
    {
     "name": "stderr",
     "output_type": "stream",
     "text": [
      "Device set to use cpu\n",
      "Whisper did not predict an ending timestamp, which can happen if audio is cut off in the middle of a word. Also make sure WhisperTimeStampLogitsProcessor was used during generation.\n"
     ]
    },
    {
     "name": "stdout",
     "output_type": "stream",
     "text": [
      "\t\tTesting file audio\\en_3_norm_-3.1db.wav...\n",
      "Testing model openai/whisper-base...\n"
     ]
    },
    {
     "name": "stderr",
     "output_type": "stream",
     "text": [
      "Device set to use cpu\n",
      "Whisper did not predict an ending timestamp, which can happen if audio is cut off in the middle of a word. Also make sure WhisperTimeStampLogitsProcessor was used during generation.\n"
     ]
    },
    {
     "name": "stdout",
     "output_type": "stream",
     "text": [
      "\t\tTesting file audio\\en_4_norm_-0.6db.wav...\n",
      "Testing model openai/whisper-base...\n"
     ]
    },
    {
     "name": "stderr",
     "output_type": "stream",
     "text": [
      "Device set to use cpu\n",
      "Whisper did not predict an ending timestamp, which can happen if audio is cut off in the middle of a word. Also make sure WhisperTimeStampLogitsProcessor was used during generation.\n"
     ]
    },
    {
     "name": "stdout",
     "output_type": "stream",
     "text": [
      "\t\tTesting file audio\\en_5_norm_-1.3db.wav...\n",
      "Testing model openai/whisper-base...\n"
     ]
    },
    {
     "name": "stderr",
     "output_type": "stream",
     "text": [
      "Device set to use cpu\n",
      "Whisper did not predict an ending timestamp, which can happen if audio is cut off in the middle of a word. Also make sure WhisperTimeStampLogitsProcessor was used during generation.\n"
     ]
    },
    {
     "name": "stdout",
     "output_type": "stream",
     "text": [
      "\t\tTesting file audio\\en_6_norm_-2.0db.wav...\n",
      "Testing model openai/whisper-base...\n"
     ]
    },
    {
     "name": "stderr",
     "output_type": "stream",
     "text": [
      "Device set to use cpu\n",
      "Whisper did not predict an ending timestamp, which can happen if audio is cut off in the middle of a word. Also make sure WhisperTimeStampLogitsProcessor was used during generation.\n"
     ]
    },
    {
     "name": "stdout",
     "output_type": "stream",
     "text": [
      "\t\tTesting file audio\\en_7_norm_+2.7db.wav...\n",
      "Testing model openai/whisper-base...\n"
     ]
    },
    {
     "name": "stderr",
     "output_type": "stream",
     "text": [
      "Device set to use cpu\n",
      "Whisper did not predict an ending timestamp, which can happen if audio is cut off in the middle of a word. Also make sure WhisperTimeStampLogitsProcessor was used during generation.\n"
     ]
    },
    {
     "name": "stdout",
     "output_type": "stream",
     "text": [
      "\t\tTesting file audio\\en_8_norm_+8.3db.wav...\n",
      "Testing model openai/whisper-base...\n"
     ]
    },
    {
     "name": "stderr",
     "output_type": "stream",
     "text": [
      "Device set to use cpu\n",
      "Whisper did not predict an ending timestamp, which can happen if audio is cut off in the middle of a word. Also make sure WhisperTimeStampLogitsProcessor was used during generation.\n"
     ]
    },
    {
     "name": "stdout",
     "output_type": "stream",
     "text": [
      "\tTesting model openai/whisper-small...\n",
      "\t\tTesting file audio\\en_0_norm_-5.0db.wav...\n",
      "Testing model openai/whisper-small...\n"
     ]
    },
    {
     "name": "stderr",
     "output_type": "stream",
     "text": [
      "Device set to use cpu\n",
      "Whisper did not predict an ending timestamp, which can happen if audio is cut off in the middle of a word. Also make sure WhisperTimeStampLogitsProcessor was used during generation.\n"
     ]
    },
    {
     "name": "stdout",
     "output_type": "stream",
     "text": [
      "\t\tTesting file audio\\en_1_norm_-5.8db.wav...\n",
      "Testing model openai/whisper-small...\n"
     ]
    },
    {
     "name": "stderr",
     "output_type": "stream",
     "text": [
      "Device set to use cpu\n",
      "Whisper did not predict an ending timestamp, which can happen if audio is cut off in the middle of a word. Also make sure WhisperTimeStampLogitsProcessor was used during generation.\n"
     ]
    },
    {
     "name": "stdout",
     "output_type": "stream",
     "text": [
      "\t\tTesting file audio\\en_2_norm_+1.2db.wav...\n",
      "Testing model openai/whisper-small...\n"
     ]
    },
    {
     "name": "stderr",
     "output_type": "stream",
     "text": [
      "Device set to use cpu\n",
      "Whisper did not predict an ending timestamp, which can happen if audio is cut off in the middle of a word. Also make sure WhisperTimeStampLogitsProcessor was used during generation.\n"
     ]
    },
    {
     "name": "stdout",
     "output_type": "stream",
     "text": [
      "\t\tTesting file audio\\en_3_norm_-3.1db.wav...\n",
      "Testing model openai/whisper-small...\n"
     ]
    },
    {
     "name": "stderr",
     "output_type": "stream",
     "text": [
      "Device set to use cpu\n",
      "Whisper did not predict an ending timestamp, which can happen if audio is cut off in the middle of a word. Also make sure WhisperTimeStampLogitsProcessor was used during generation.\n"
     ]
    },
    {
     "name": "stdout",
     "output_type": "stream",
     "text": [
      "\t\tTesting file audio\\en_4_norm_-0.6db.wav...\n",
      "Testing model openai/whisper-small...\n"
     ]
    },
    {
     "name": "stderr",
     "output_type": "stream",
     "text": [
      "Device set to use cpu\n",
      "Whisper did not predict an ending timestamp, which can happen if audio is cut off in the middle of a word. Also make sure WhisperTimeStampLogitsProcessor was used during generation.\n"
     ]
    },
    {
     "name": "stdout",
     "output_type": "stream",
     "text": [
      "\t\tTesting file audio\\en_5_norm_-1.3db.wav...\n",
      "Testing model openai/whisper-small...\n"
     ]
    },
    {
     "name": "stderr",
     "output_type": "stream",
     "text": [
      "Device set to use cpu\n",
      "Whisper did not predict an ending timestamp, which can happen if audio is cut off in the middle of a word. Also make sure WhisperTimeStampLogitsProcessor was used during generation.\n"
     ]
    },
    {
     "name": "stdout",
     "output_type": "stream",
     "text": [
      "\t\tTesting file audio\\en_6_norm_-2.0db.wav...\n",
      "Testing model openai/whisper-small...\n"
     ]
    },
    {
     "name": "stderr",
     "output_type": "stream",
     "text": [
      "Device set to use cpu\n",
      "Whisper did not predict an ending timestamp, which can happen if audio is cut off in the middle of a word. Also make sure WhisperTimeStampLogitsProcessor was used during generation.\n"
     ]
    },
    {
     "name": "stdout",
     "output_type": "stream",
     "text": [
      "\t\tTesting file audio\\en_7_norm_+2.7db.wav...\n",
      "Testing model openai/whisper-small...\n"
     ]
    },
    {
     "name": "stderr",
     "output_type": "stream",
     "text": [
      "Device set to use cpu\n"
     ]
    },
    {
     "name": "stdout",
     "output_type": "stream",
     "text": [
      "\t\tTesting file audio\\en_8_norm_+8.3db.wav...\n",
      "Testing model openai/whisper-small...\n"
     ]
    },
    {
     "name": "stderr",
     "output_type": "stream",
     "text": [
      "Device set to use cpu\n",
      "Whisper did not predict an ending timestamp, which can happen if audio is cut off in the middle of a word. Also make sure WhisperTimeStampLogitsProcessor was used during generation.\n"
     ]
    },
    {
     "name": "stdout",
     "output_type": "stream",
     "text": [
      "\tTesting model openai/whisper-medium...\n",
      "\t\tTesting file audio\\en_0_norm_-5.0db.wav...\n",
      "Testing model openai/whisper-medium...\n"
     ]
    },
    {
     "name": "stderr",
     "output_type": "stream",
     "text": [
      "Device set to use cpu\n"
     ]
    },
    {
     "name": "stdout",
     "output_type": "stream",
     "text": [
      "\t\tTesting file audio\\en_1_norm_-5.8db.wav...\n",
      "Testing model openai/whisper-medium...\n"
     ]
    },
    {
     "name": "stderr",
     "output_type": "stream",
     "text": [
      "Device set to use cpu\n",
      "Whisper did not predict an ending timestamp, which can happen if audio is cut off in the middle of a word. Also make sure WhisperTimeStampLogitsProcessor was used during generation.\n"
     ]
    },
    {
     "name": "stdout",
     "output_type": "stream",
     "text": [
      "\t\tTesting file audio\\en_2_norm_+1.2db.wav...\n",
      "Testing model openai/whisper-medium...\n"
     ]
    },
    {
     "name": "stderr",
     "output_type": "stream",
     "text": [
      "Device set to use cpu\n",
      "Whisper did not predict an ending timestamp, which can happen if audio is cut off in the middle of a word. Also make sure WhisperTimeStampLogitsProcessor was used during generation.\n"
     ]
    },
    {
     "name": "stdout",
     "output_type": "stream",
     "text": [
      "\t\tTesting file audio\\en_3_norm_-3.1db.wav...\n",
      "Testing model openai/whisper-medium...\n"
     ]
    },
    {
     "name": "stderr",
     "output_type": "stream",
     "text": [
      "Device set to use cpu\n"
     ]
    },
    {
     "name": "stdout",
     "output_type": "stream",
     "text": [
      "\t\tTesting file audio\\en_4_norm_-0.6db.wav...\n",
      "Testing model openai/whisper-medium...\n"
     ]
    },
    {
     "name": "stderr",
     "output_type": "stream",
     "text": [
      "Device set to use cpu\n",
      "Whisper did not predict an ending timestamp, which can happen if audio is cut off in the middle of a word. Also make sure WhisperTimeStampLogitsProcessor was used during generation.\n"
     ]
    },
    {
     "name": "stdout",
     "output_type": "stream",
     "text": [
      "\t\tTesting file audio\\en_5_norm_-1.3db.wav...\n",
      "Testing model openai/whisper-medium...\n"
     ]
    },
    {
     "name": "stderr",
     "output_type": "stream",
     "text": [
      "Device set to use cpu\n",
      "Whisper did not predict an ending timestamp, which can happen if audio is cut off in the middle of a word. Also make sure WhisperTimeStampLogitsProcessor was used during generation.\n"
     ]
    },
    {
     "name": "stdout",
     "output_type": "stream",
     "text": [
      "\t\tTesting file audio\\en_6_norm_-2.0db.wav...\n",
      "Testing model openai/whisper-medium...\n"
     ]
    },
    {
     "name": "stderr",
     "output_type": "stream",
     "text": [
      "Device set to use cpu\n",
      "Whisper did not predict an ending timestamp, which can happen if audio is cut off in the middle of a word. Also make sure WhisperTimeStampLogitsProcessor was used during generation.\n"
     ]
    },
    {
     "name": "stdout",
     "output_type": "stream",
     "text": [
      "\t\tTesting file audio\\en_7_norm_+2.7db.wav...\n",
      "Testing model openai/whisper-medium...\n"
     ]
    },
    {
     "name": "stderr",
     "output_type": "stream",
     "text": [
      "Device set to use cpu\n",
      "Whisper did not predict an ending timestamp, which can happen if audio is cut off in the middle of a word. Also make sure WhisperTimeStampLogitsProcessor was used during generation.\n"
     ]
    },
    {
     "name": "stdout",
     "output_type": "stream",
     "text": [
      "\t\tTesting file audio\\en_8_norm_+8.3db.wav...\n",
      "Testing model openai/whisper-medium...\n"
     ]
    },
    {
     "name": "stderr",
     "output_type": "stream",
     "text": [
      "Device set to use cpu\n",
      "Whisper did not predict an ending timestamp, which can happen if audio is cut off in the middle of a word. Also make sure WhisperTimeStampLogitsProcessor was used during generation.\n"
     ]
    },
    {
     "name": "stdout",
     "output_type": "stream",
     "text": [
      "\tTesting model openai/whisper-large...\n",
      "\t\tTesting file audio\\en_0_norm_-5.0db.wav...\n",
      "Testing model openai/whisper-large...\n"
     ]
    },
    {
     "name": "stderr",
     "output_type": "stream",
     "text": [
      "Device set to use cpu\n",
      "Whisper did not predict an ending timestamp, which can happen if audio is cut off in the middle of a word. Also make sure WhisperTimeStampLogitsProcessor was used during generation.\n"
     ]
    },
    {
     "name": "stdout",
     "output_type": "stream",
     "text": [
      "\t\tTesting file audio\\en_1_norm_-5.8db.wav...\n",
      "Testing model openai/whisper-large...\n"
     ]
    },
    {
     "name": "stderr",
     "output_type": "stream",
     "text": [
      "Device set to use cpu\n",
      "Whisper did not predict an ending timestamp, which can happen if audio is cut off in the middle of a word. Also make sure WhisperTimeStampLogitsProcessor was used during generation.\n"
     ]
    },
    {
     "name": "stdout",
     "output_type": "stream",
     "text": [
      "\t\tTesting file audio\\en_2_norm_+1.2db.wav...\n",
      "Testing model openai/whisper-large...\n"
     ]
    },
    {
     "name": "stderr",
     "output_type": "stream",
     "text": [
      "Device set to use cpu\n",
      "Whisper did not predict an ending timestamp, which can happen if audio is cut off in the middle of a word. Also make sure WhisperTimeStampLogitsProcessor was used during generation.\n"
     ]
    },
    {
     "name": "stdout",
     "output_type": "stream",
     "text": [
      "\t\tTesting file audio\\en_3_norm_-3.1db.wav...\n",
      "Testing model openai/whisper-large...\n"
     ]
    },
    {
     "name": "stderr",
     "output_type": "stream",
     "text": [
      "Device set to use cpu\n",
      "Whisper did not predict an ending timestamp, which can happen if audio is cut off in the middle of a word. Also make sure WhisperTimeStampLogitsProcessor was used during generation.\n"
     ]
    },
    {
     "name": "stdout",
     "output_type": "stream",
     "text": [
      "\t\tTesting file audio\\en_4_norm_-0.6db.wav...\n",
      "Testing model openai/whisper-large...\n"
     ]
    },
    {
     "name": "stderr",
     "output_type": "stream",
     "text": [
      "Device set to use cpu\n"
     ]
    },
    {
     "name": "stdout",
     "output_type": "stream",
     "text": [
      "\t\tTesting file audio\\en_5_norm_-1.3db.wav...\n",
      "Testing model openai/whisper-large...\n"
     ]
    },
    {
     "name": "stderr",
     "output_type": "stream",
     "text": [
      "Device set to use cpu\n",
      "Whisper did not predict an ending timestamp, which can happen if audio is cut off in the middle of a word. Also make sure WhisperTimeStampLogitsProcessor was used during generation.\n"
     ]
    },
    {
     "name": "stdout",
     "output_type": "stream",
     "text": [
      "\t\tTesting file audio\\en_6_norm_-2.0db.wav...\n",
      "Testing model openai/whisper-large...\n"
     ]
    },
    {
     "name": "stderr",
     "output_type": "stream",
     "text": [
      "Device set to use cpu\n",
      "Whisper did not predict an ending timestamp, which can happen if audio is cut off in the middle of a word. Also make sure WhisperTimeStampLogitsProcessor was used during generation.\n"
     ]
    },
    {
     "name": "stdout",
     "output_type": "stream",
     "text": [
      "\t\tTesting file audio\\en_7_norm_+2.7db.wav...\n",
      "Testing model openai/whisper-large...\n"
     ]
    },
    {
     "name": "stderr",
     "output_type": "stream",
     "text": [
      "Device set to use cpu\n",
      "Whisper did not predict an ending timestamp, which can happen if audio is cut off in the middle of a word. Also make sure WhisperTimeStampLogitsProcessor was used during generation.\n"
     ]
    },
    {
     "name": "stdout",
     "output_type": "stream",
     "text": [
      "\t\tTesting file audio\\en_8_norm_+8.3db.wav...\n",
      "Testing model openai/whisper-large...\n"
     ]
    },
    {
     "name": "stderr",
     "output_type": "stream",
     "text": [
      "Device set to use cpu\n",
      "Whisper did not predict an ending timestamp, which can happen if audio is cut off in the middle of a word. Also make sure WhisperTimeStampLogitsProcessor was used during generation.\n"
     ]
    },
    {
     "name": "stdout",
     "output_type": "stream",
     "text": [
      "\tTesting model openai/whisper-large-v2...\n",
      "\t\tTesting file audio\\en_0_norm_-5.0db.wav...\n",
      "Testing model openai/whisper-large-v2...\n"
     ]
    },
    {
     "name": "stderr",
     "output_type": "stream",
     "text": [
      "Device set to use cpu\n"
     ]
    },
    {
     "name": "stdout",
     "output_type": "stream",
     "text": [
      "\t\tTesting file audio\\en_1_norm_-5.8db.wav...\n",
      "Testing model openai/whisper-large-v2...\n"
     ]
    },
    {
     "name": "stderr",
     "output_type": "stream",
     "text": [
      "Device set to use cpu\n",
      "Whisper did not predict an ending timestamp, which can happen if audio is cut off in the middle of a word. Also make sure WhisperTimeStampLogitsProcessor was used during generation.\n"
     ]
    },
    {
     "name": "stdout",
     "output_type": "stream",
     "text": [
      "\t\tTesting file audio\\en_2_norm_+1.2db.wav...\n",
      "Testing model openai/whisper-large-v2...\n"
     ]
    },
    {
     "name": "stderr",
     "output_type": "stream",
     "text": [
      "Device set to use cpu\n",
      "Whisper did not predict an ending timestamp, which can happen if audio is cut off in the middle of a word. Also make sure WhisperTimeStampLogitsProcessor was used during generation.\n"
     ]
    },
    {
     "name": "stdout",
     "output_type": "stream",
     "text": [
      "\t\tTesting file audio\\en_3_norm_-3.1db.wav...\n",
      "Testing model openai/whisper-large-v2...\n"
     ]
    },
    {
     "name": "stderr",
     "output_type": "stream",
     "text": [
      "Device set to use cpu\n",
      "Whisper did not predict an ending timestamp, which can happen if audio is cut off in the middle of a word. Also make sure WhisperTimeStampLogitsProcessor was used during generation.\n"
     ]
    },
    {
     "name": "stdout",
     "output_type": "stream",
     "text": [
      "\t\tTesting file audio\\en_4_norm_-0.6db.wav...\n",
      "Testing model openai/whisper-large-v2...\n"
     ]
    },
    {
     "name": "stderr",
     "output_type": "stream",
     "text": [
      "Device set to use cpu\n"
     ]
    },
    {
     "name": "stdout",
     "output_type": "stream",
     "text": [
      "\t\tTesting file audio\\en_5_norm_-1.3db.wav...\n",
      "Testing model openai/whisper-large-v2...\n"
     ]
    },
    {
     "name": "stderr",
     "output_type": "stream",
     "text": [
      "Device set to use cpu\n"
     ]
    },
    {
     "name": "stdout",
     "output_type": "stream",
     "text": [
      "\t\tTesting file audio\\en_6_norm_-2.0db.wav...\n",
      "Testing model openai/whisper-large-v2...\n"
     ]
    },
    {
     "name": "stderr",
     "output_type": "stream",
     "text": [
      "Device set to use cpu\n",
      "Whisper did not predict an ending timestamp, which can happen if audio is cut off in the middle of a word. Also make sure WhisperTimeStampLogitsProcessor was used during generation.\n"
     ]
    },
    {
     "name": "stdout",
     "output_type": "stream",
     "text": [
      "\t\tTesting file audio\\en_7_norm_+2.7db.wav...\n",
      "Testing model openai/whisper-large-v2...\n"
     ]
    },
    {
     "name": "stderr",
     "output_type": "stream",
     "text": [
      "Device set to use cpu\n",
      "Whisper did not predict an ending timestamp, which can happen if audio is cut off in the middle of a word. Also make sure WhisperTimeStampLogitsProcessor was used during generation.\n"
     ]
    },
    {
     "name": "stdout",
     "output_type": "stream",
     "text": [
      "\t\tTesting file audio\\en_8_norm_+8.3db.wav...\n",
      "Testing model openai/whisper-large-v2...\n"
     ]
    },
    {
     "name": "stderr",
     "output_type": "stream",
     "text": [
      "Device set to use cpu\n",
      "Whisper did not predict an ending timestamp, which can happen if audio is cut off in the middle of a word. Also make sure WhisperTimeStampLogitsProcessor was used during generation.\n"
     ]
    },
    {
     "name": "stdout",
     "output_type": "stream",
     "text": [
      "\tTesting model openai/whisper-large-v3...\n",
      "\t\tTesting file audio\\en_0_norm_-5.0db.wav...\n",
      "Testing model openai/whisper-large-v3...\n"
     ]
    },
    {
     "name": "stderr",
     "output_type": "stream",
     "text": [
      "Device set to use cpu\n",
      "Whisper did not predict an ending timestamp, which can happen if audio is cut off in the middle of a word. Also make sure WhisperTimeStampLogitsProcessor was used during generation.\n"
     ]
    },
    {
     "name": "stdout",
     "output_type": "stream",
     "text": [
      "\t\tTesting file audio\\en_1_norm_-5.8db.wav...\n",
      "Testing model openai/whisper-large-v3...\n"
     ]
    },
    {
     "name": "stderr",
     "output_type": "stream",
     "text": [
      "Device set to use cpu\n"
     ]
    },
    {
     "name": "stdout",
     "output_type": "stream",
     "text": [
      "\t\tTesting file audio\\en_2_norm_+1.2db.wav...\n",
      "Testing model openai/whisper-large-v3...\n"
     ]
    },
    {
     "name": "stderr",
     "output_type": "stream",
     "text": [
      "Device set to use cpu\n"
     ]
    },
    {
     "name": "stdout",
     "output_type": "stream",
     "text": [
      "\t\tTesting file audio\\en_3_norm_-3.1db.wav...\n",
      "Testing model openai/whisper-large-v3...\n"
     ]
    },
    {
     "name": "stderr",
     "output_type": "stream",
     "text": [
      "Device set to use cpu\n"
     ]
    },
    {
     "name": "stdout",
     "output_type": "stream",
     "text": [
      "\t\tTesting file audio\\en_4_norm_-0.6db.wav...\n",
      "Testing model openai/whisper-large-v3...\n"
     ]
    },
    {
     "name": "stderr",
     "output_type": "stream",
     "text": [
      "Device set to use cpu\n"
     ]
    },
    {
     "name": "stdout",
     "output_type": "stream",
     "text": [
      "\t\tTesting file audio\\en_5_norm_-1.3db.wav...\n",
      "Testing model openai/whisper-large-v3...\n"
     ]
    },
    {
     "name": "stderr",
     "output_type": "stream",
     "text": [
      "Device set to use cpu\n"
     ]
    },
    {
     "name": "stdout",
     "output_type": "stream",
     "text": [
      "\t\tTesting file audio\\en_6_norm_-2.0db.wav...\n",
      "Testing model openai/whisper-large-v3...\n"
     ]
    },
    {
     "name": "stderr",
     "output_type": "stream",
     "text": [
      "Device set to use cpu\n"
     ]
    },
    {
     "name": "stdout",
     "output_type": "stream",
     "text": [
      "\t\tTesting file audio\\en_7_norm_+2.7db.wav...\n",
      "Testing model openai/whisper-large-v3...\n"
     ]
    },
    {
     "name": "stderr",
     "output_type": "stream",
     "text": [
      "Device set to use cpu\n"
     ]
    },
    {
     "name": "stdout",
     "output_type": "stream",
     "text": [
      "\t\tTesting file audio\\en_8_norm_+8.3db.wav...\n",
      "Testing model openai/whisper-large-v3...\n"
     ]
    },
    {
     "name": "stderr",
     "output_type": "stream",
     "text": [
      "Device set to use cpu\n",
      "Whisper did not predict an ending timestamp, which can happen if audio is cut off in the middle of a word. Also make sure WhisperTimeStampLogitsProcessor was used during generation.\n"
     ]
    },
    {
     "name": "stdout",
     "output_type": "stream",
     "text": [
      "\tTesting model openai/whisper-large-v3-turbo...\n",
      "\t\tTesting file audio\\en_0_norm_-5.0db.wav...\n",
      "Testing model openai/whisper-large-v3-turbo...\n"
     ]
    },
    {
     "name": "stderr",
     "output_type": "stream",
     "text": [
      "Device set to use cpu\n"
     ]
    },
    {
     "name": "stdout",
     "output_type": "stream",
     "text": [
      "\t\tTesting file audio\\en_1_norm_-5.8db.wav...\n",
      "Testing model openai/whisper-large-v3-turbo...\n"
     ]
    },
    {
     "name": "stderr",
     "output_type": "stream",
     "text": [
      "Device set to use cpu\n"
     ]
    },
    {
     "name": "stdout",
     "output_type": "stream",
     "text": [
      "\t\tTesting file audio\\en_2_norm_+1.2db.wav...\n",
      "Testing model openai/whisper-large-v3-turbo...\n"
     ]
    },
    {
     "name": "stderr",
     "output_type": "stream",
     "text": [
      "Device set to use cpu\n"
     ]
    },
    {
     "name": "stdout",
     "output_type": "stream",
     "text": [
      "\t\tTesting file audio\\en_3_norm_-3.1db.wav...\n",
      "Testing model openai/whisper-large-v3-turbo...\n"
     ]
    },
    {
     "name": "stderr",
     "output_type": "stream",
     "text": [
      "Device set to use cpu\n"
     ]
    },
    {
     "name": "stdout",
     "output_type": "stream",
     "text": [
      "\t\tTesting file audio\\en_4_norm_-0.6db.wav...\n",
      "Testing model openai/whisper-large-v3-turbo...\n"
     ]
    },
    {
     "name": "stderr",
     "output_type": "stream",
     "text": [
      "Device set to use cpu\n"
     ]
    },
    {
     "name": "stdout",
     "output_type": "stream",
     "text": [
      "\t\tTesting file audio\\en_5_norm_-1.3db.wav...\n",
      "Testing model openai/whisper-large-v3-turbo...\n"
     ]
    },
    {
     "name": "stderr",
     "output_type": "stream",
     "text": [
      "Device set to use cpu\n"
     ]
    },
    {
     "name": "stdout",
     "output_type": "stream",
     "text": [
      "\t\tTesting file audio\\en_6_norm_-2.0db.wav...\n",
      "Testing model openai/whisper-large-v3-turbo...\n"
     ]
    },
    {
     "name": "stderr",
     "output_type": "stream",
     "text": [
      "Device set to use cpu\n",
      "Whisper did not predict an ending timestamp, which can happen if audio is cut off in the middle of a word. Also make sure WhisperTimeStampLogitsProcessor was used during generation.\n"
     ]
    },
    {
     "name": "stdout",
     "output_type": "stream",
     "text": [
      "\t\tTesting file audio\\en_7_norm_+2.7db.wav...\n",
      "Testing model openai/whisper-large-v3-turbo...\n"
     ]
    },
    {
     "name": "stderr",
     "output_type": "stream",
     "text": [
      "Device set to use cpu\n"
     ]
    },
    {
     "name": "stdout",
     "output_type": "stream",
     "text": [
      "\t\tTesting file audio\\en_8_norm_+8.3db.wav...\n",
      "Testing model openai/whisper-large-v3-turbo...\n"
     ]
    },
    {
     "name": "stderr",
     "output_type": "stream",
     "text": [
      "Device set to use cpu\n"
     ]
    },
    {
     "name": "stdout",
     "output_type": "stream",
     "text": [
      "Testing language es...\n",
      "\tTesting model openai/whisper-tiny...\n",
      "\t\tTesting file audio\\es_0_norm_-5.8db.wav...\n",
      "Testing model openai/whisper-tiny...\n"
     ]
    },
    {
     "name": "stderr",
     "output_type": "stream",
     "text": [
      "Device set to use cpu\n"
     ]
    },
    {
     "name": "stdout",
     "output_type": "stream",
     "text": [
      "\t\tTesting file audio\\es_1_norm_-6.5db.wav...\n",
      "Testing model openai/whisper-tiny...\n"
     ]
    },
    {
     "name": "stderr",
     "output_type": "stream",
     "text": [
      "Device set to use cpu\n",
      "Whisper did not predict an ending timestamp, which can happen if audio is cut off in the middle of a word. Also make sure WhisperTimeStampLogitsProcessor was used during generation.\n"
     ]
    },
    {
     "name": "stdout",
     "output_type": "stream",
     "text": [
      "\t\tTesting file audio\\es_2_norm_+2.4db.wav...\n",
      "Testing model openai/whisper-tiny...\n"
     ]
    },
    {
     "name": "stderr",
     "output_type": "stream",
     "text": [
      "Device set to use cpu\n"
     ]
    },
    {
     "name": "stdout",
     "output_type": "stream",
     "text": [
      "\t\tTesting file audio\\es_3_norm_-3.6db.wav...\n",
      "Testing model openai/whisper-tiny...\n"
     ]
    },
    {
     "name": "stderr",
     "output_type": "stream",
     "text": [
      "Device set to use cpu\n",
      "Whisper did not predict an ending timestamp, which can happen if audio is cut off in the middle of a word. Also make sure WhisperTimeStampLogitsProcessor was used during generation.\n"
     ]
    },
    {
     "name": "stdout",
     "output_type": "stream",
     "text": [
      "\t\tTesting file audio\\es_4_norm_-2.1db.wav...\n",
      "Testing model openai/whisper-tiny...\n"
     ]
    },
    {
     "name": "stderr",
     "output_type": "stream",
     "text": [
      "Device set to use cpu\n",
      "Whisper did not predict an ending timestamp, which can happen if audio is cut off in the middle of a word. Also make sure WhisperTimeStampLogitsProcessor was used during generation.\n"
     ]
    },
    {
     "name": "stdout",
     "output_type": "stream",
     "text": [
      "\t\tTesting file audio\\es_5_norm_-0.6db.wav...\n",
      "Testing model openai/whisper-tiny...\n"
     ]
    },
    {
     "name": "stderr",
     "output_type": "stream",
     "text": [
      "Device set to use cpu\n"
     ]
    },
    {
     "name": "stdout",
     "output_type": "stream",
     "text": [
      "\t\tTesting file audio\\es_6_norm_-2.7db.wav...\n",
      "Testing model openai/whisper-tiny...\n"
     ]
    },
    {
     "name": "stderr",
     "output_type": "stream",
     "text": [
      "Device set to use cpu\n"
     ]
    },
    {
     "name": "stdout",
     "output_type": "stream",
     "text": [
      "\t\tTesting file audio\\es_7_norm_+3.1db.wav...\n",
      "Testing model openai/whisper-tiny...\n"
     ]
    },
    {
     "name": "stderr",
     "output_type": "stream",
     "text": [
      "Device set to use cpu\n",
      "Whisper did not predict an ending timestamp, which can happen if audio is cut off in the middle of a word. Also make sure WhisperTimeStampLogitsProcessor was used during generation.\n"
     ]
    },
    {
     "name": "stdout",
     "output_type": "stream",
     "text": [
      "\t\tTesting file audio\\es_8_norm_+8.2db.wav...\n",
      "Testing model openai/whisper-tiny...\n"
     ]
    },
    {
     "name": "stderr",
     "output_type": "stream",
     "text": [
      "Device set to use cpu\n"
     ]
    },
    {
     "name": "stdout",
     "output_type": "stream",
     "text": [
      "\tTesting model openai/whisper-base...\n",
      "\t\tTesting file audio\\es_0_norm_-5.8db.wav...\n",
      "Testing model openai/whisper-base...\n"
     ]
    },
    {
     "name": "stderr",
     "output_type": "stream",
     "text": [
      "Device set to use cpu\n"
     ]
    },
    {
     "name": "stdout",
     "output_type": "stream",
     "text": [
      "\t\tTesting file audio\\es_1_norm_-6.5db.wav...\n",
      "Testing model openai/whisper-base...\n"
     ]
    },
    {
     "name": "stderr",
     "output_type": "stream",
     "text": [
      "Device set to use cpu\n",
      "Whisper did not predict an ending timestamp, which can happen if audio is cut off in the middle of a word. Also make sure WhisperTimeStampLogitsProcessor was used during generation.\n"
     ]
    },
    {
     "name": "stdout",
     "output_type": "stream",
     "text": [
      "\t\tTesting file audio\\es_2_norm_+2.4db.wav...\n",
      "Testing model openai/whisper-base...\n"
     ]
    },
    {
     "name": "stderr",
     "output_type": "stream",
     "text": [
      "Device set to use cpu\n",
      "Whisper did not predict an ending timestamp, which can happen if audio is cut off in the middle of a word. Also make sure WhisperTimeStampLogitsProcessor was used during generation.\n"
     ]
    },
    {
     "name": "stdout",
     "output_type": "stream",
     "text": [
      "\t\tTesting file audio\\es_3_norm_-3.6db.wav...\n",
      "Testing model openai/whisper-base...\n"
     ]
    },
    {
     "name": "stderr",
     "output_type": "stream",
     "text": [
      "Device set to use cpu\n"
     ]
    },
    {
     "name": "stdout",
     "output_type": "stream",
     "text": [
      "\t\tTesting file audio\\es_4_norm_-2.1db.wav...\n",
      "Testing model openai/whisper-base...\n"
     ]
    },
    {
     "name": "stderr",
     "output_type": "stream",
     "text": [
      "Device set to use cpu\n",
      "Whisper did not predict an ending timestamp, which can happen if audio is cut off in the middle of a word. Also make sure WhisperTimeStampLogitsProcessor was used during generation.\n"
     ]
    },
    {
     "name": "stdout",
     "output_type": "stream",
     "text": [
      "\t\tTesting file audio\\es_5_norm_-0.6db.wav...\n",
      "Testing model openai/whisper-base...\n"
     ]
    },
    {
     "name": "stderr",
     "output_type": "stream",
     "text": [
      "Device set to use cpu\n"
     ]
    },
    {
     "name": "stdout",
     "output_type": "stream",
     "text": [
      "\t\tTesting file audio\\es_6_norm_-2.7db.wav...\n",
      "Testing model openai/whisper-base...\n"
     ]
    },
    {
     "name": "stderr",
     "output_type": "stream",
     "text": [
      "Device set to use cpu\n",
      "Whisper did not predict an ending timestamp, which can happen if audio is cut off in the middle of a word. Also make sure WhisperTimeStampLogitsProcessor was used during generation.\n"
     ]
    },
    {
     "name": "stdout",
     "output_type": "stream",
     "text": [
      "\t\tTesting file audio\\es_7_norm_+3.1db.wav...\n",
      "Testing model openai/whisper-base...\n"
     ]
    },
    {
     "name": "stderr",
     "output_type": "stream",
     "text": [
      "Device set to use cpu\n"
     ]
    },
    {
     "name": "stdout",
     "output_type": "stream",
     "text": [
      "\t\tTesting file audio\\es_8_norm_+8.2db.wav...\n",
      "Testing model openai/whisper-base...\n"
     ]
    },
    {
     "name": "stderr",
     "output_type": "stream",
     "text": [
      "Device set to use cpu\n"
     ]
    },
    {
     "name": "stdout",
     "output_type": "stream",
     "text": [
      "\tTesting model openai/whisper-small...\n",
      "\t\tTesting file audio\\es_0_norm_-5.8db.wav...\n",
      "Testing model openai/whisper-small...\n"
     ]
    },
    {
     "name": "stderr",
     "output_type": "stream",
     "text": [
      "Device set to use cpu\n",
      "Whisper did not predict an ending timestamp, which can happen if audio is cut off in the middle of a word. Also make sure WhisperTimeStampLogitsProcessor was used during generation.\n"
     ]
    },
    {
     "name": "stdout",
     "output_type": "stream",
     "text": [
      "\t\tTesting file audio\\es_1_norm_-6.5db.wav...\n",
      "Testing model openai/whisper-small...\n"
     ]
    },
    {
     "name": "stderr",
     "output_type": "stream",
     "text": [
      "Device set to use cpu\n"
     ]
    },
    {
     "name": "stdout",
     "output_type": "stream",
     "text": [
      "\t\tTesting file audio\\es_2_norm_+2.4db.wav...\n",
      "Testing model openai/whisper-small...\n"
     ]
    },
    {
     "name": "stderr",
     "output_type": "stream",
     "text": [
      "Device set to use cpu\n"
     ]
    },
    {
     "name": "stdout",
     "output_type": "stream",
     "text": [
      "\t\tTesting file audio\\es_3_norm_-3.6db.wav...\n",
      "Testing model openai/whisper-small...\n"
     ]
    },
    {
     "name": "stderr",
     "output_type": "stream",
     "text": [
      "Device set to use cpu\n",
      "Whisper did not predict an ending timestamp, which can happen if audio is cut off in the middle of a word. Also make sure WhisperTimeStampLogitsProcessor was used during generation.\n"
     ]
    },
    {
     "name": "stdout",
     "output_type": "stream",
     "text": [
      "\t\tTesting file audio\\es_4_norm_-2.1db.wav...\n",
      "Testing model openai/whisper-small...\n"
     ]
    },
    {
     "name": "stderr",
     "output_type": "stream",
     "text": [
      "Device set to use cpu\n",
      "Whisper did not predict an ending timestamp, which can happen if audio is cut off in the middle of a word. Also make sure WhisperTimeStampLogitsProcessor was used during generation.\n"
     ]
    },
    {
     "name": "stdout",
     "output_type": "stream",
     "text": [
      "\t\tTesting file audio\\es_5_norm_-0.6db.wav...\n",
      "Testing model openai/whisper-small...\n"
     ]
    },
    {
     "name": "stderr",
     "output_type": "stream",
     "text": [
      "Device set to use cpu\n",
      "Whisper did not predict an ending timestamp, which can happen if audio is cut off in the middle of a word. Also make sure WhisperTimeStampLogitsProcessor was used during generation.\n"
     ]
    },
    {
     "name": "stdout",
     "output_type": "stream",
     "text": [
      "\t\tTesting file audio\\es_6_norm_-2.7db.wav...\n",
      "Testing model openai/whisper-small...\n"
     ]
    },
    {
     "name": "stderr",
     "output_type": "stream",
     "text": [
      "Device set to use cpu\n"
     ]
    },
    {
     "name": "stdout",
     "output_type": "stream",
     "text": [
      "\t\tTesting file audio\\es_7_norm_+3.1db.wav...\n",
      "Testing model openai/whisper-small...\n"
     ]
    },
    {
     "name": "stderr",
     "output_type": "stream",
     "text": [
      "Device set to use cpu\n"
     ]
    },
    {
     "name": "stdout",
     "output_type": "stream",
     "text": [
      "\t\tTesting file audio\\es_8_norm_+8.2db.wav...\n",
      "Testing model openai/whisper-small...\n"
     ]
    },
    {
     "name": "stderr",
     "output_type": "stream",
     "text": [
      "Device set to use cpu\n"
     ]
    },
    {
     "name": "stdout",
     "output_type": "stream",
     "text": [
      "\tTesting model openai/whisper-medium...\n",
      "\t\tTesting file audio\\es_0_norm_-5.8db.wav...\n",
      "Testing model openai/whisper-medium...\n"
     ]
    },
    {
     "name": "stderr",
     "output_type": "stream",
     "text": [
      "Device set to use cpu\n",
      "Whisper did not predict an ending timestamp, which can happen if audio is cut off in the middle of a word. Also make sure WhisperTimeStampLogitsProcessor was used during generation.\n"
     ]
    },
    {
     "name": "stdout",
     "output_type": "stream",
     "text": [
      "\t\tTesting file audio\\es_1_norm_-6.5db.wav...\n",
      "Testing model openai/whisper-medium...\n"
     ]
    },
    {
     "name": "stderr",
     "output_type": "stream",
     "text": [
      "Device set to use cpu\n",
      "Whisper did not predict an ending timestamp, which can happen if audio is cut off in the middle of a word. Also make sure WhisperTimeStampLogitsProcessor was used during generation.\n"
     ]
    },
    {
     "name": "stdout",
     "output_type": "stream",
     "text": [
      "\t\tTesting file audio\\es_2_norm_+2.4db.wav...\n",
      "Testing model openai/whisper-medium...\n"
     ]
    },
    {
     "name": "stderr",
     "output_type": "stream",
     "text": [
      "Device set to use cpu\n",
      "Whisper did not predict an ending timestamp, which can happen if audio is cut off in the middle of a word. Also make sure WhisperTimeStampLogitsProcessor was used during generation.\n"
     ]
    },
    {
     "name": "stdout",
     "output_type": "stream",
     "text": [
      "\t\tTesting file audio\\es_3_norm_-3.6db.wav...\n",
      "Testing model openai/whisper-medium...\n"
     ]
    },
    {
     "name": "stderr",
     "output_type": "stream",
     "text": [
      "Device set to use cpu\n",
      "Whisper did not predict an ending timestamp, which can happen if audio is cut off in the middle of a word. Also make sure WhisperTimeStampLogitsProcessor was used during generation.\n"
     ]
    },
    {
     "name": "stdout",
     "output_type": "stream",
     "text": [
      "\t\tTesting file audio\\es_4_norm_-2.1db.wav...\n",
      "Testing model openai/whisper-medium...\n"
     ]
    },
    {
     "name": "stderr",
     "output_type": "stream",
     "text": [
      "Device set to use cpu\n",
      "Whisper did not predict an ending timestamp, which can happen if audio is cut off in the middle of a word. Also make sure WhisperTimeStampLogitsProcessor was used during generation.\n"
     ]
    },
    {
     "name": "stdout",
     "output_type": "stream",
     "text": [
      "\t\tTesting file audio\\es_5_norm_-0.6db.wav...\n",
      "Testing model openai/whisper-medium...\n"
     ]
    },
    {
     "name": "stderr",
     "output_type": "stream",
     "text": [
      "Device set to use cpu\n"
     ]
    },
    {
     "name": "stdout",
     "output_type": "stream",
     "text": [
      "\t\tTesting file audio\\es_6_norm_-2.7db.wav...\n",
      "Testing model openai/whisper-medium...\n"
     ]
    },
    {
     "name": "stderr",
     "output_type": "stream",
     "text": [
      "Device set to use cpu\n",
      "Whisper did not predict an ending timestamp, which can happen if audio is cut off in the middle of a word. Also make sure WhisperTimeStampLogitsProcessor was used during generation.\n"
     ]
    },
    {
     "name": "stdout",
     "output_type": "stream",
     "text": [
      "\t\tTesting file audio\\es_7_norm_+3.1db.wav...\n",
      "Testing model openai/whisper-medium...\n"
     ]
    },
    {
     "name": "stderr",
     "output_type": "stream",
     "text": [
      "Device set to use cpu\n"
     ]
    },
    {
     "name": "stdout",
     "output_type": "stream",
     "text": [
      "\t\tTesting file audio\\es_8_norm_+8.2db.wav...\n",
      "Testing model openai/whisper-medium...\n"
     ]
    },
    {
     "name": "stderr",
     "output_type": "stream",
     "text": [
      "Device set to use cpu\n"
     ]
    },
    {
     "name": "stdout",
     "output_type": "stream",
     "text": [
      "\tTesting model openai/whisper-large...\n",
      "\t\tTesting file audio\\es_0_norm_-5.8db.wav...\n",
      "Testing model openai/whisper-large...\n"
     ]
    },
    {
     "name": "stderr",
     "output_type": "stream",
     "text": [
      "Device set to use cpu\n"
     ]
    },
    {
     "name": "stdout",
     "output_type": "stream",
     "text": [
      "\t\tTesting file audio\\es_1_norm_-6.5db.wav...\n",
      "Testing model openai/whisper-large...\n"
     ]
    },
    {
     "name": "stderr",
     "output_type": "stream",
     "text": [
      "Device set to use cpu\n"
     ]
    },
    {
     "name": "stdout",
     "output_type": "stream",
     "text": [
      "\t\tTesting file audio\\es_2_norm_+2.4db.wav...\n",
      "Testing model openai/whisper-large...\n"
     ]
    },
    {
     "name": "stderr",
     "output_type": "stream",
     "text": [
      "Device set to use cpu\n"
     ]
    },
    {
     "name": "stdout",
     "output_type": "stream",
     "text": [
      "\t\tTesting file audio\\es_3_norm_-3.6db.wav...\n",
      "Testing model openai/whisper-large...\n"
     ]
    },
    {
     "name": "stderr",
     "output_type": "stream",
     "text": [
      "Device set to use cpu\n"
     ]
    },
    {
     "name": "stdout",
     "output_type": "stream",
     "text": [
      "\t\tTesting file audio\\es_4_norm_-2.1db.wav...\n",
      "Testing model openai/whisper-large...\n"
     ]
    },
    {
     "name": "stderr",
     "output_type": "stream",
     "text": [
      "Device set to use cpu\n"
     ]
    },
    {
     "name": "stdout",
     "output_type": "stream",
     "text": [
      "\t\tTesting file audio\\es_5_norm_-0.6db.wav...\n",
      "Testing model openai/whisper-large...\n"
     ]
    },
    {
     "name": "stderr",
     "output_type": "stream",
     "text": [
      "Device set to use cpu\n",
      "Whisper did not predict an ending timestamp, which can happen if audio is cut off in the middle of a word. Also make sure WhisperTimeStampLogitsProcessor was used during generation.\n"
     ]
    },
    {
     "name": "stdout",
     "output_type": "stream",
     "text": [
      "\t\tTesting file audio\\es_6_norm_-2.7db.wav...\n",
      "Testing model openai/whisper-large...\n"
     ]
    },
    {
     "name": "stderr",
     "output_type": "stream",
     "text": [
      "Device set to use cpu\n",
      "Whisper did not predict an ending timestamp, which can happen if audio is cut off in the middle of a word. Also make sure WhisperTimeStampLogitsProcessor was used during generation.\n"
     ]
    },
    {
     "name": "stdout",
     "output_type": "stream",
     "text": [
      "\t\tTesting file audio\\es_7_norm_+3.1db.wav...\n",
      "Testing model openai/whisper-large...\n"
     ]
    },
    {
     "name": "stderr",
     "output_type": "stream",
     "text": [
      "Device set to use cpu\n"
     ]
    },
    {
     "name": "stdout",
     "output_type": "stream",
     "text": [
      "\t\tTesting file audio\\es_8_norm_+8.2db.wav...\n",
      "Testing model openai/whisper-large...\n"
     ]
    },
    {
     "name": "stderr",
     "output_type": "stream",
     "text": [
      "Device set to use cpu\n",
      "Whisper did not predict an ending timestamp, which can happen if audio is cut off in the middle of a word. Also make sure WhisperTimeStampLogitsProcessor was used during generation.\n"
     ]
    },
    {
     "name": "stdout",
     "output_type": "stream",
     "text": [
      "\tTesting model openai/whisper-large-v2...\n",
      "\t\tTesting file audio\\es_0_norm_-5.8db.wav...\n",
      "Testing model openai/whisper-large-v2...\n"
     ]
    },
    {
     "name": "stderr",
     "output_type": "stream",
     "text": [
      "Device set to use cpu\n",
      "Whisper did not predict an ending timestamp, which can happen if audio is cut off in the middle of a word. Also make sure WhisperTimeStampLogitsProcessor was used during generation.\n"
     ]
    },
    {
     "name": "stdout",
     "output_type": "stream",
     "text": [
      "\t\tTesting file audio\\es_1_norm_-6.5db.wav...\n",
      "Testing model openai/whisper-large-v2...\n"
     ]
    },
    {
     "name": "stderr",
     "output_type": "stream",
     "text": [
      "Device set to use cpu\n",
      "Whisper did not predict an ending timestamp, which can happen if audio is cut off in the middle of a word. Also make sure WhisperTimeStampLogitsProcessor was used during generation.\n"
     ]
    },
    {
     "name": "stdout",
     "output_type": "stream",
     "text": [
      "\t\tTesting file audio\\es_2_norm_+2.4db.wav...\n",
      "Testing model openai/whisper-large-v2...\n"
     ]
    },
    {
     "name": "stderr",
     "output_type": "stream",
     "text": [
      "Device set to use cpu\n",
      "Whisper did not predict an ending timestamp, which can happen if audio is cut off in the middle of a word. Also make sure WhisperTimeStampLogitsProcessor was used during generation.\n"
     ]
    },
    {
     "name": "stdout",
     "output_type": "stream",
     "text": [
      "\t\tTesting file audio\\es_3_norm_-3.6db.wav...\n",
      "Testing model openai/whisper-large-v2...\n"
     ]
    },
    {
     "name": "stderr",
     "output_type": "stream",
     "text": [
      "Device set to use cpu\n",
      "Whisper did not predict an ending timestamp, which can happen if audio is cut off in the middle of a word. Also make sure WhisperTimeStampLogitsProcessor was used during generation.\n"
     ]
    },
    {
     "name": "stdout",
     "output_type": "stream",
     "text": [
      "\t\tTesting file audio\\es_4_norm_-2.1db.wav...\n",
      "Testing model openai/whisper-large-v2...\n"
     ]
    },
    {
     "name": "stderr",
     "output_type": "stream",
     "text": [
      "Device set to use cpu\n"
     ]
    },
    {
     "name": "stdout",
     "output_type": "stream",
     "text": [
      "\t\tTesting file audio\\es_5_norm_-0.6db.wav...\n",
      "Testing model openai/whisper-large-v2...\n"
     ]
    },
    {
     "name": "stderr",
     "output_type": "stream",
     "text": [
      "Device set to use cpu\n"
     ]
    },
    {
     "name": "stdout",
     "output_type": "stream",
     "text": [
      "\t\tTesting file audio\\es_6_norm_-2.7db.wav...\n",
      "Testing model openai/whisper-large-v2...\n"
     ]
    },
    {
     "name": "stderr",
     "output_type": "stream",
     "text": [
      "Device set to use cpu\n",
      "Whisper did not predict an ending timestamp, which can happen if audio is cut off in the middle of a word. Also make sure WhisperTimeStampLogitsProcessor was used during generation.\n"
     ]
    },
    {
     "name": "stdout",
     "output_type": "stream",
     "text": [
      "\t\tTesting file audio\\es_7_norm_+3.1db.wav...\n",
      "Testing model openai/whisper-large-v2...\n"
     ]
    },
    {
     "name": "stderr",
     "output_type": "stream",
     "text": [
      "Device set to use cpu\n",
      "Whisper did not predict an ending timestamp, which can happen if audio is cut off in the middle of a word. Also make sure WhisperTimeStampLogitsProcessor was used during generation.\n"
     ]
    },
    {
     "name": "stdout",
     "output_type": "stream",
     "text": [
      "\t\tTesting file audio\\es_8_norm_+8.2db.wav...\n",
      "Testing model openai/whisper-large-v2...\n"
     ]
    },
    {
     "name": "stderr",
     "output_type": "stream",
     "text": [
      "Device set to use cpu\n",
      "Whisper did not predict an ending timestamp, which can happen if audio is cut off in the middle of a word. Also make sure WhisperTimeStampLogitsProcessor was used during generation.\n"
     ]
    },
    {
     "name": "stdout",
     "output_type": "stream",
     "text": [
      "\tTesting model openai/whisper-large-v3...\n",
      "\t\tTesting file audio\\es_0_norm_-5.8db.wav...\n",
      "Testing model openai/whisper-large-v3...\n"
     ]
    },
    {
     "name": "stderr",
     "output_type": "stream",
     "text": [
      "Device set to use cpu\n",
      "Whisper did not predict an ending timestamp, which can happen if audio is cut off in the middle of a word. Also make sure WhisperTimeStampLogitsProcessor was used during generation.\n"
     ]
    },
    {
     "name": "stdout",
     "output_type": "stream",
     "text": [
      "\t\tTesting file audio\\es_1_norm_-6.5db.wav...\n",
      "Testing model openai/whisper-large-v3...\n"
     ]
    },
    {
     "name": "stderr",
     "output_type": "stream",
     "text": [
      "Device set to use cpu\n",
      "Whisper did not predict an ending timestamp, which can happen if audio is cut off in the middle of a word. Also make sure WhisperTimeStampLogitsProcessor was used during generation.\n"
     ]
    },
    {
     "name": "stdout",
     "output_type": "stream",
     "text": [
      "\t\tTesting file audio\\es_2_norm_+2.4db.wav...\n",
      "Testing model openai/whisper-large-v3...\n"
     ]
    },
    {
     "name": "stderr",
     "output_type": "stream",
     "text": [
      "Device set to use cpu\n",
      "Whisper did not predict an ending timestamp, which can happen if audio is cut off in the middle of a word. Also make sure WhisperTimeStampLogitsProcessor was used during generation.\n"
     ]
    },
    {
     "name": "stdout",
     "output_type": "stream",
     "text": [
      "\t\tTesting file audio\\es_3_norm_-3.6db.wav...\n",
      "Testing model openai/whisper-large-v3...\n"
     ]
    },
    {
     "name": "stderr",
     "output_type": "stream",
     "text": [
      "Device set to use cpu\n",
      "Whisper did not predict an ending timestamp, which can happen if audio is cut off in the middle of a word. Also make sure WhisperTimeStampLogitsProcessor was used during generation.\n"
     ]
    },
    {
     "name": "stdout",
     "output_type": "stream",
     "text": [
      "\t\tTesting file audio\\es_4_norm_-2.1db.wav...\n",
      "Testing model openai/whisper-large-v3...\n"
     ]
    },
    {
     "name": "stderr",
     "output_type": "stream",
     "text": [
      "Device set to use cpu\n",
      "Whisper did not predict an ending timestamp, which can happen if audio is cut off in the middle of a word. Also make sure WhisperTimeStampLogitsProcessor was used during generation.\n"
     ]
    },
    {
     "name": "stdout",
     "output_type": "stream",
     "text": [
      "\t\tTesting file audio\\es_5_norm_-0.6db.wav...\n",
      "Testing model openai/whisper-large-v3...\n"
     ]
    },
    {
     "name": "stderr",
     "output_type": "stream",
     "text": [
      "Device set to use cpu\n",
      "Whisper did not predict an ending timestamp, which can happen if audio is cut off in the middle of a word. Also make sure WhisperTimeStampLogitsProcessor was used during generation.\n"
     ]
    },
    {
     "name": "stdout",
     "output_type": "stream",
     "text": [
      "\t\tTesting file audio\\es_6_norm_-2.7db.wav...\n",
      "Testing model openai/whisper-large-v3...\n"
     ]
    },
    {
     "name": "stderr",
     "output_type": "stream",
     "text": [
      "Device set to use cpu\n",
      "Whisper did not predict an ending timestamp, which can happen if audio is cut off in the middle of a word. Also make sure WhisperTimeStampLogitsProcessor was used during generation.\n"
     ]
    },
    {
     "name": "stdout",
     "output_type": "stream",
     "text": [
      "\t\tTesting file audio\\es_7_norm_+3.1db.wav...\n",
      "Testing model openai/whisper-large-v3...\n"
     ]
    },
    {
     "name": "stderr",
     "output_type": "stream",
     "text": [
      "Device set to use cpu\n",
      "Whisper did not predict an ending timestamp, which can happen if audio is cut off in the middle of a word. Also make sure WhisperTimeStampLogitsProcessor was used during generation.\n"
     ]
    },
    {
     "name": "stdout",
     "output_type": "stream",
     "text": [
      "\t\tTesting file audio\\es_8_norm_+8.2db.wav...\n",
      "Testing model openai/whisper-large-v3...\n"
     ]
    },
    {
     "name": "stderr",
     "output_type": "stream",
     "text": [
      "Device set to use cpu\n",
      "Whisper did not predict an ending timestamp, which can happen if audio is cut off in the middle of a word. Also make sure WhisperTimeStampLogitsProcessor was used during generation.\n"
     ]
    },
    {
     "name": "stdout",
     "output_type": "stream",
     "text": [
      "\tTesting model openai/whisper-large-v3-turbo...\n",
      "\t\tTesting file audio\\es_0_norm_-5.8db.wav...\n",
      "Testing model openai/whisper-large-v3-turbo...\n"
     ]
    },
    {
     "name": "stderr",
     "output_type": "stream",
     "text": [
      "Device set to use cpu\n",
      "Whisper did not predict an ending timestamp, which can happen if audio is cut off in the middle of a word. Also make sure WhisperTimeStampLogitsProcessor was used during generation.\n"
     ]
    },
    {
     "name": "stdout",
     "output_type": "stream",
     "text": [
      "\t\tTesting file audio\\es_1_norm_-6.5db.wav...\n",
      "Testing model openai/whisper-large-v3-turbo...\n"
     ]
    },
    {
     "name": "stderr",
     "output_type": "stream",
     "text": [
      "Device set to use cpu\n",
      "Whisper did not predict an ending timestamp, which can happen if audio is cut off in the middle of a word. Also make sure WhisperTimeStampLogitsProcessor was used during generation.\n"
     ]
    },
    {
     "name": "stdout",
     "output_type": "stream",
     "text": [
      "\t\tTesting file audio\\es_2_norm_+2.4db.wav...\n",
      "Testing model openai/whisper-large-v3-turbo...\n"
     ]
    },
    {
     "name": "stderr",
     "output_type": "stream",
     "text": [
      "Device set to use cpu\n",
      "Whisper did not predict an ending timestamp, which can happen if audio is cut off in the middle of a word. Also make sure WhisperTimeStampLogitsProcessor was used during generation.\n"
     ]
    },
    {
     "name": "stdout",
     "output_type": "stream",
     "text": [
      "\t\tTesting file audio\\es_3_norm_-3.6db.wav...\n",
      "Testing model openai/whisper-large-v3-turbo...\n"
     ]
    },
    {
     "name": "stderr",
     "output_type": "stream",
     "text": [
      "Device set to use cpu\n",
      "Whisper did not predict an ending timestamp, which can happen if audio is cut off in the middle of a word. Also make sure WhisperTimeStampLogitsProcessor was used during generation.\n"
     ]
    },
    {
     "name": "stdout",
     "output_type": "stream",
     "text": [
      "\t\tTesting file audio\\es_4_norm_-2.1db.wav...\n",
      "Testing model openai/whisper-large-v3-turbo...\n"
     ]
    },
    {
     "name": "stderr",
     "output_type": "stream",
     "text": [
      "Device set to use cpu\n",
      "Whisper did not predict an ending timestamp, which can happen if audio is cut off in the middle of a word. Also make sure WhisperTimeStampLogitsProcessor was used during generation.\n"
     ]
    },
    {
     "name": "stdout",
     "output_type": "stream",
     "text": [
      "\t\tTesting file audio\\es_5_norm_-0.6db.wav...\n",
      "Testing model openai/whisper-large-v3-turbo...\n"
     ]
    },
    {
     "name": "stderr",
     "output_type": "stream",
     "text": [
      "Device set to use cpu\n",
      "Whisper did not predict an ending timestamp, which can happen if audio is cut off in the middle of a word. Also make sure WhisperTimeStampLogitsProcessor was used during generation.\n"
     ]
    },
    {
     "name": "stdout",
     "output_type": "stream",
     "text": [
      "\t\tTesting file audio\\es_6_norm_-2.7db.wav...\n",
      "Testing model openai/whisper-large-v3-turbo...\n"
     ]
    },
    {
     "name": "stderr",
     "output_type": "stream",
     "text": [
      "Device set to use cpu\n",
      "Whisper did not predict an ending timestamp, which can happen if audio is cut off in the middle of a word. Also make sure WhisperTimeStampLogitsProcessor was used during generation.\n"
     ]
    },
    {
     "name": "stdout",
     "output_type": "stream",
     "text": [
      "\t\tTesting file audio\\es_7_norm_+3.1db.wav...\n",
      "Testing model openai/whisper-large-v3-turbo...\n"
     ]
    },
    {
     "name": "stderr",
     "output_type": "stream",
     "text": [
      "Device set to use cpu\n",
      "Whisper did not predict an ending timestamp, which can happen if audio is cut off in the middle of a word. Also make sure WhisperTimeStampLogitsProcessor was used during generation.\n"
     ]
    },
    {
     "name": "stdout",
     "output_type": "stream",
     "text": [
      "\t\tTesting file audio\\es_8_norm_+8.2db.wav...\n",
      "Testing model openai/whisper-large-v3-turbo...\n"
     ]
    },
    {
     "name": "stderr",
     "output_type": "stream",
     "text": [
      "Device set to use cpu\n",
      "Whisper did not predict an ending timestamp, which can happen if audio is cut off in the middle of a word. Also make sure WhisperTimeStampLogitsProcessor was used during generation.\n"
     ]
    },
    {
     "name": "stdout",
     "output_type": "stream",
     "text": [
      "Testing language de...\n",
      "\tTesting model openai/whisper-tiny...\n",
      "\t\tTesting file audio\\de_0_norm_-1.5db.wav...\n",
      "Testing model openai/whisper-tiny...\n"
     ]
    },
    {
     "name": "stderr",
     "output_type": "stream",
     "text": [
      "Device set to use cpu\n"
     ]
    },
    {
     "name": "stdout",
     "output_type": "stream",
     "text": [
      "\t\tTesting file audio\\de_1_norm_-2.4db.wav...\n",
      "Testing model openai/whisper-tiny...\n"
     ]
    },
    {
     "name": "stderr",
     "output_type": "stream",
     "text": [
      "Device set to use cpu\n"
     ]
    },
    {
     "name": "stdout",
     "output_type": "stream",
     "text": [
      "\t\tTesting file audio\\de_2_norm_+9.1db.wav...\n",
      "Testing model openai/whisper-tiny...\n"
     ]
    },
    {
     "name": "stderr",
     "output_type": "stream",
     "text": [
      "Device set to use cpu\n",
      "Whisper did not predict an ending timestamp, which can happen if audio is cut off in the middle of a word. Also make sure WhisperTimeStampLogitsProcessor was used during generation.\n"
     ]
    },
    {
     "name": "stdout",
     "output_type": "stream",
     "text": [
      "\t\tTesting file audio\\de_3_norm_+0.1db.wav...\n",
      "Testing model openai/whisper-tiny...\n"
     ]
    },
    {
     "name": "stderr",
     "output_type": "stream",
     "text": [
      "Device set to use cpu\n"
     ]
    },
    {
     "name": "stdout",
     "output_type": "stream",
     "text": [
      "\t\tTesting file audio\\de_4_norm_+2.5db.wav...\n",
      "Testing model openai/whisper-tiny...\n"
     ]
    },
    {
     "name": "stderr",
     "output_type": "stream",
     "text": [
      "Device set to use cpu\n",
      "Whisper did not predict an ending timestamp, which can happen if audio is cut off in the middle of a word. Also make sure WhisperTimeStampLogitsProcessor was used during generation.\n"
     ]
    },
    {
     "name": "stdout",
     "output_type": "stream",
     "text": [
      "\t\tTesting file audio\\de_5_norm_+1.6db.wav...\n",
      "Testing model openai/whisper-tiny...\n"
     ]
    },
    {
     "name": "stderr",
     "output_type": "stream",
     "text": [
      "Device set to use cpu\n"
     ]
    },
    {
     "name": "stdout",
     "output_type": "stream",
     "text": [
      "\t\tTesting file audio\\de_6_norm_-1.3db.wav...\n",
      "Testing model openai/whisper-tiny...\n"
     ]
    },
    {
     "name": "stderr",
     "output_type": "stream",
     "text": [
      "Device set to use cpu\n"
     ]
    },
    {
     "name": "stdout",
     "output_type": "stream",
     "text": [
      "\t\tTesting file audio\\de_7_norm_+4.5db.wav...\n",
      "Testing model openai/whisper-tiny...\n"
     ]
    },
    {
     "name": "stderr",
     "output_type": "stream",
     "text": [
      "Device set to use cpu\n"
     ]
    },
    {
     "name": "stdout",
     "output_type": "stream",
     "text": [
      "\t\tTesting file audio\\de_8_norm_+9.6db.wav...\n",
      "Testing model openai/whisper-tiny...\n"
     ]
    },
    {
     "name": "stderr",
     "output_type": "stream",
     "text": [
      "Device set to use cpu\n"
     ]
    },
    {
     "name": "stdout",
     "output_type": "stream",
     "text": [
      "\tTesting model openai/whisper-base...\n",
      "\t\tTesting file audio\\de_0_norm_-1.5db.wav...\n",
      "Testing model openai/whisper-base...\n"
     ]
    },
    {
     "name": "stderr",
     "output_type": "stream",
     "text": [
      "Device set to use cpu\n",
      "Whisper did not predict an ending timestamp, which can happen if audio is cut off in the middle of a word. Also make sure WhisperTimeStampLogitsProcessor was used during generation.\n"
     ]
    },
    {
     "name": "stdout",
     "output_type": "stream",
     "text": [
      "\t\tTesting file audio\\de_1_norm_-2.4db.wav...\n",
      "Testing model openai/whisper-base...\n"
     ]
    },
    {
     "name": "stderr",
     "output_type": "stream",
     "text": [
      "Device set to use cpu\n"
     ]
    },
    {
     "name": "stdout",
     "output_type": "stream",
     "text": [
      "\t\tTesting file audio\\de_2_norm_+9.1db.wav...\n",
      "Testing model openai/whisper-base...\n"
     ]
    },
    {
     "name": "stderr",
     "output_type": "stream",
     "text": [
      "Device set to use cpu\n",
      "Whisper did not predict an ending timestamp, which can happen if audio is cut off in the middle of a word. Also make sure WhisperTimeStampLogitsProcessor was used during generation.\n"
     ]
    },
    {
     "name": "stdout",
     "output_type": "stream",
     "text": [
      "\t\tTesting file audio\\de_3_norm_+0.1db.wav...\n",
      "Testing model openai/whisper-base...\n"
     ]
    },
    {
     "name": "stderr",
     "output_type": "stream",
     "text": [
      "Device set to use cpu\n"
     ]
    },
    {
     "name": "stdout",
     "output_type": "stream",
     "text": [
      "\t\tTesting file audio\\de_4_norm_+2.5db.wav...\n",
      "Testing model openai/whisper-base...\n"
     ]
    },
    {
     "name": "stderr",
     "output_type": "stream",
     "text": [
      "Device set to use cpu\n",
      "Whisper did not predict an ending timestamp, which can happen if audio is cut off in the middle of a word. Also make sure WhisperTimeStampLogitsProcessor was used during generation.\n"
     ]
    },
    {
     "name": "stdout",
     "output_type": "stream",
     "text": [
      "\t\tTesting file audio\\de_5_norm_+1.6db.wav...\n",
      "Testing model openai/whisper-base...\n"
     ]
    },
    {
     "name": "stderr",
     "output_type": "stream",
     "text": [
      "Device set to use cpu\n",
      "Whisper did not predict an ending timestamp, which can happen if audio is cut off in the middle of a word. Also make sure WhisperTimeStampLogitsProcessor was used during generation.\n"
     ]
    },
    {
     "name": "stdout",
     "output_type": "stream",
     "text": [
      "\t\tTesting file audio\\de_6_norm_-1.3db.wav...\n",
      "Testing model openai/whisper-base...\n"
     ]
    },
    {
     "name": "stderr",
     "output_type": "stream",
     "text": [
      "Device set to use cpu\n"
     ]
    },
    {
     "name": "stdout",
     "output_type": "stream",
     "text": [
      "\t\tTesting file audio\\de_7_norm_+4.5db.wav...\n",
      "Testing model openai/whisper-base...\n"
     ]
    },
    {
     "name": "stderr",
     "output_type": "stream",
     "text": [
      "Device set to use cpu\n"
     ]
    },
    {
     "name": "stdout",
     "output_type": "stream",
     "text": [
      "\t\tTesting file audio\\de_8_norm_+9.6db.wav...\n",
      "Testing model openai/whisper-base...\n"
     ]
    },
    {
     "name": "stderr",
     "output_type": "stream",
     "text": [
      "Device set to use cpu\n"
     ]
    },
    {
     "name": "stdout",
     "output_type": "stream",
     "text": [
      "\tTesting model openai/whisper-small...\n",
      "\t\tTesting file audio\\de_0_norm_-1.5db.wav...\n",
      "Testing model openai/whisper-small...\n"
     ]
    },
    {
     "name": "stderr",
     "output_type": "stream",
     "text": [
      "Device set to use cpu\n"
     ]
    },
    {
     "name": "stdout",
     "output_type": "stream",
     "text": [
      "\t\tTesting file audio\\de_1_norm_-2.4db.wav...\n",
      "Testing model openai/whisper-small...\n"
     ]
    },
    {
     "name": "stderr",
     "output_type": "stream",
     "text": [
      "Device set to use cpu\n"
     ]
    },
    {
     "name": "stdout",
     "output_type": "stream",
     "text": [
      "\t\tTesting file audio\\de_2_norm_+9.1db.wav...\n",
      "Testing model openai/whisper-small...\n"
     ]
    },
    {
     "name": "stderr",
     "output_type": "stream",
     "text": [
      "Device set to use cpu\n"
     ]
    },
    {
     "name": "stdout",
     "output_type": "stream",
     "text": [
      "\t\tTesting file audio\\de_3_norm_+0.1db.wav...\n",
      "Testing model openai/whisper-small...\n"
     ]
    },
    {
     "name": "stderr",
     "output_type": "stream",
     "text": [
      "Device set to use cpu\n"
     ]
    },
    {
     "name": "stdout",
     "output_type": "stream",
     "text": [
      "\t\tTesting file audio\\de_4_norm_+2.5db.wav...\n",
      "Testing model openai/whisper-small...\n"
     ]
    },
    {
     "name": "stderr",
     "output_type": "stream",
     "text": [
      "Device set to use cpu\n"
     ]
    },
    {
     "name": "stdout",
     "output_type": "stream",
     "text": [
      "\t\tTesting file audio\\de_5_norm_+1.6db.wav...\n",
      "Testing model openai/whisper-small...\n"
     ]
    },
    {
     "name": "stderr",
     "output_type": "stream",
     "text": [
      "Device set to use cpu\n"
     ]
    },
    {
     "name": "stdout",
     "output_type": "stream",
     "text": [
      "\t\tTesting file audio\\de_6_norm_-1.3db.wav...\n",
      "Testing model openai/whisper-small...\n"
     ]
    },
    {
     "name": "stderr",
     "output_type": "stream",
     "text": [
      "Device set to use cpu\n"
     ]
    },
    {
     "name": "stdout",
     "output_type": "stream",
     "text": [
      "\t\tTesting file audio\\de_7_norm_+4.5db.wav...\n",
      "Testing model openai/whisper-small...\n"
     ]
    },
    {
     "name": "stderr",
     "output_type": "stream",
     "text": [
      "Device set to use cpu\n"
     ]
    },
    {
     "name": "stdout",
     "output_type": "stream",
     "text": [
      "\t\tTesting file audio\\de_8_norm_+9.6db.wav...\n",
      "Testing model openai/whisper-small...\n"
     ]
    },
    {
     "name": "stderr",
     "output_type": "stream",
     "text": [
      "Device set to use cpu\n"
     ]
    },
    {
     "name": "stdout",
     "output_type": "stream",
     "text": [
      "\tTesting model openai/whisper-medium...\n",
      "\t\tTesting file audio\\de_0_norm_-1.5db.wav...\n",
      "Testing model openai/whisper-medium...\n"
     ]
    },
    {
     "name": "stderr",
     "output_type": "stream",
     "text": [
      "Device set to use cpu\n"
     ]
    },
    {
     "name": "stdout",
     "output_type": "stream",
     "text": [
      "\t\tTesting file audio\\de_1_norm_-2.4db.wav...\n",
      "Testing model openai/whisper-medium...\n"
     ]
    },
    {
     "name": "stderr",
     "output_type": "stream",
     "text": [
      "Device set to use cpu\n"
     ]
    },
    {
     "name": "stdout",
     "output_type": "stream",
     "text": [
      "\t\tTesting file audio\\de_2_norm_+9.1db.wav...\n",
      "Testing model openai/whisper-medium...\n"
     ]
    },
    {
     "name": "stderr",
     "output_type": "stream",
     "text": [
      "Device set to use cpu\n"
     ]
    },
    {
     "name": "stdout",
     "output_type": "stream",
     "text": [
      "\t\tTesting file audio\\de_3_norm_+0.1db.wav...\n",
      "Testing model openai/whisper-medium...\n"
     ]
    },
    {
     "name": "stderr",
     "output_type": "stream",
     "text": [
      "Device set to use cpu\n",
      "Whisper did not predict an ending timestamp, which can happen if audio is cut off in the middle of a word. Also make sure WhisperTimeStampLogitsProcessor was used during generation.\n"
     ]
    },
    {
     "name": "stdout",
     "output_type": "stream",
     "text": [
      "\t\tTesting file audio\\de_4_norm_+2.5db.wav...\n",
      "Testing model openai/whisper-medium...\n"
     ]
    },
    {
     "name": "stderr",
     "output_type": "stream",
     "text": [
      "Device set to use cpu\n"
     ]
    },
    {
     "name": "stdout",
     "output_type": "stream",
     "text": [
      "\t\tTesting file audio\\de_5_norm_+1.6db.wav...\n",
      "Testing model openai/whisper-medium...\n"
     ]
    },
    {
     "name": "stderr",
     "output_type": "stream",
     "text": [
      "Device set to use cpu\n"
     ]
    },
    {
     "name": "stdout",
     "output_type": "stream",
     "text": [
      "\t\tTesting file audio\\de_6_norm_-1.3db.wav...\n",
      "Testing model openai/whisper-medium...\n"
     ]
    },
    {
     "name": "stderr",
     "output_type": "stream",
     "text": [
      "Device set to use cpu\n"
     ]
    },
    {
     "name": "stdout",
     "output_type": "stream",
     "text": [
      "\t\tTesting file audio\\de_7_norm_+4.5db.wav...\n",
      "Testing model openai/whisper-medium...\n"
     ]
    },
    {
     "name": "stderr",
     "output_type": "stream",
     "text": [
      "Device set to use cpu\n"
     ]
    },
    {
     "name": "stdout",
     "output_type": "stream",
     "text": [
      "\t\tTesting file audio\\de_8_norm_+9.6db.wav...\n",
      "Testing model openai/whisper-medium...\n"
     ]
    },
    {
     "name": "stderr",
     "output_type": "stream",
     "text": [
      "Device set to use cpu\n"
     ]
    },
    {
     "name": "stdout",
     "output_type": "stream",
     "text": [
      "\tTesting model openai/whisper-large...\n",
      "\t\tTesting file audio\\de_0_norm_-1.5db.wav...\n",
      "Testing model openai/whisper-large...\n"
     ]
    },
    {
     "name": "stderr",
     "output_type": "stream",
     "text": [
      "Device set to use cpu\n"
     ]
    },
    {
     "name": "stdout",
     "output_type": "stream",
     "text": [
      "\t\tTesting file audio\\de_1_norm_-2.4db.wav...\n",
      "Testing model openai/whisper-large...\n"
     ]
    },
    {
     "name": "stderr",
     "output_type": "stream",
     "text": [
      "Device set to use cpu\n"
     ]
    },
    {
     "name": "stdout",
     "output_type": "stream",
     "text": [
      "\t\tTesting file audio\\de_2_norm_+9.1db.wav...\n",
      "Testing model openai/whisper-large...\n"
     ]
    },
    {
     "name": "stderr",
     "output_type": "stream",
     "text": [
      "Device set to use cpu\n"
     ]
    },
    {
     "name": "stdout",
     "output_type": "stream",
     "text": [
      "\t\tTesting file audio\\de_3_norm_+0.1db.wav...\n",
      "Testing model openai/whisper-large...\n"
     ]
    },
    {
     "name": "stderr",
     "output_type": "stream",
     "text": [
      "Device set to use cpu\n"
     ]
    },
    {
     "name": "stdout",
     "output_type": "stream",
     "text": [
      "\t\tTesting file audio\\de_4_norm_+2.5db.wav...\n",
      "Testing model openai/whisper-large...\n"
     ]
    },
    {
     "name": "stderr",
     "output_type": "stream",
     "text": [
      "Device set to use cpu\n",
      "Whisper did not predict an ending timestamp, which can happen if audio is cut off in the middle of a word. Also make sure WhisperTimeStampLogitsProcessor was used during generation.\n"
     ]
    },
    {
     "name": "stdout",
     "output_type": "stream",
     "text": [
      "\t\tTesting file audio\\de_5_norm_+1.6db.wav...\n",
      "Testing model openai/whisper-large...\n"
     ]
    },
    {
     "name": "stderr",
     "output_type": "stream",
     "text": [
      "Device set to use cpu\n"
     ]
    },
    {
     "name": "stdout",
     "output_type": "stream",
     "text": [
      "\t\tTesting file audio\\de_6_norm_-1.3db.wav...\n",
      "Testing model openai/whisper-large...\n"
     ]
    },
    {
     "name": "stderr",
     "output_type": "stream",
     "text": [
      "Device set to use cpu\n"
     ]
    },
    {
     "name": "stdout",
     "output_type": "stream",
     "text": [
      "\t\tTesting file audio\\de_7_norm_+4.5db.wav...\n",
      "Testing model openai/whisper-large...\n"
     ]
    },
    {
     "name": "stderr",
     "output_type": "stream",
     "text": [
      "Device set to use cpu\n"
     ]
    },
    {
     "name": "stdout",
     "output_type": "stream",
     "text": [
      "\t\tTesting file audio\\de_8_norm_+9.6db.wav...\n",
      "Testing model openai/whisper-large...\n"
     ]
    },
    {
     "name": "stderr",
     "output_type": "stream",
     "text": [
      "Device set to use cpu\n",
      "Whisper did not predict an ending timestamp, which can happen if audio is cut off in the middle of a word. Also make sure WhisperTimeStampLogitsProcessor was used during generation.\n"
     ]
    },
    {
     "name": "stdout",
     "output_type": "stream",
     "text": [
      "\tTesting model openai/whisper-large-v2...\n",
      "\t\tTesting file audio\\de_0_norm_-1.5db.wav...\n",
      "Testing model openai/whisper-large-v2...\n"
     ]
    },
    {
     "name": "stderr",
     "output_type": "stream",
     "text": [
      "Device set to use cpu\n"
     ]
    },
    {
     "name": "stdout",
     "output_type": "stream",
     "text": [
      "\t\tTesting file audio\\de_1_norm_-2.4db.wav...\n",
      "Testing model openai/whisper-large-v2...\n"
     ]
    },
    {
     "name": "stderr",
     "output_type": "stream",
     "text": [
      "Device set to use cpu\n"
     ]
    },
    {
     "name": "stdout",
     "output_type": "stream",
     "text": [
      "\t\tTesting file audio\\de_2_norm_+9.1db.wav...\n",
      "Testing model openai/whisper-large-v2...\n"
     ]
    },
    {
     "name": "stderr",
     "output_type": "stream",
     "text": [
      "Device set to use cpu\n"
     ]
    },
    {
     "name": "stdout",
     "output_type": "stream",
     "text": [
      "\t\tTesting file audio\\de_3_norm_+0.1db.wav...\n",
      "Testing model openai/whisper-large-v2...\n"
     ]
    },
    {
     "name": "stderr",
     "output_type": "stream",
     "text": [
      "Device set to use cpu\n"
     ]
    },
    {
     "name": "stdout",
     "output_type": "stream",
     "text": [
      "\t\tTesting file audio\\de_4_norm_+2.5db.wav...\n",
      "Testing model openai/whisper-large-v2...\n"
     ]
    },
    {
     "name": "stderr",
     "output_type": "stream",
     "text": [
      "Device set to use cpu\n"
     ]
    },
    {
     "name": "stdout",
     "output_type": "stream",
     "text": [
      "\t\tTesting file audio\\de_5_norm_+1.6db.wav...\n",
      "Testing model openai/whisper-large-v2...\n"
     ]
    },
    {
     "name": "stderr",
     "output_type": "stream",
     "text": [
      "Device set to use cpu\n"
     ]
    },
    {
     "name": "stdout",
     "output_type": "stream",
     "text": [
      "\t\tTesting file audio\\de_6_norm_-1.3db.wav...\n",
      "Testing model openai/whisper-large-v2...\n"
     ]
    },
    {
     "name": "stderr",
     "output_type": "stream",
     "text": [
      "Device set to use cpu\n"
     ]
    },
    {
     "name": "stdout",
     "output_type": "stream",
     "text": [
      "\t\tTesting file audio\\de_7_norm_+4.5db.wav...\n",
      "Testing model openai/whisper-large-v2...\n"
     ]
    },
    {
     "name": "stderr",
     "output_type": "stream",
     "text": [
      "Device set to use cpu\n"
     ]
    },
    {
     "name": "stdout",
     "output_type": "stream",
     "text": [
      "\t\tTesting file audio\\de_8_norm_+9.6db.wav...\n",
      "Testing model openai/whisper-large-v2...\n"
     ]
    },
    {
     "name": "stderr",
     "output_type": "stream",
     "text": [
      "Device set to use cpu\n"
     ]
    },
    {
     "name": "stdout",
     "output_type": "stream",
     "text": [
      "\tTesting model openai/whisper-large-v3...\n",
      "\t\tTesting file audio\\de_0_norm_-1.5db.wav...\n",
      "Testing model openai/whisper-large-v3...\n"
     ]
    },
    {
     "name": "stderr",
     "output_type": "stream",
     "text": [
      "Device set to use cpu\n"
     ]
    },
    {
     "name": "stdout",
     "output_type": "stream",
     "text": [
      "\t\tTesting file audio\\de_1_norm_-2.4db.wav...\n",
      "Testing model openai/whisper-large-v3...\n"
     ]
    },
    {
     "name": "stderr",
     "output_type": "stream",
     "text": [
      "Device set to use cpu\n"
     ]
    },
    {
     "name": "stdout",
     "output_type": "stream",
     "text": [
      "\t\tTesting file audio\\de_2_norm_+9.1db.wav...\n",
      "Testing model openai/whisper-large-v3...\n"
     ]
    },
    {
     "name": "stderr",
     "output_type": "stream",
     "text": [
      "Device set to use cpu\n"
     ]
    },
    {
     "name": "stdout",
     "output_type": "stream",
     "text": [
      "\t\tTesting file audio\\de_3_norm_+0.1db.wav...\n",
      "Testing model openai/whisper-large-v3...\n"
     ]
    },
    {
     "name": "stderr",
     "output_type": "stream",
     "text": [
      "Device set to use cpu\n"
     ]
    },
    {
     "name": "stdout",
     "output_type": "stream",
     "text": [
      "\t\tTesting file audio\\de_4_norm_+2.5db.wav...\n",
      "Testing model openai/whisper-large-v3...\n"
     ]
    },
    {
     "name": "stderr",
     "output_type": "stream",
     "text": [
      "Device set to use cpu\n",
      "Whisper did not predict an ending timestamp, which can happen if audio is cut off in the middle of a word. Also make sure WhisperTimeStampLogitsProcessor was used during generation.\n"
     ]
    },
    {
     "name": "stdout",
     "output_type": "stream",
     "text": [
      "\t\tTesting file audio\\de_5_norm_+1.6db.wav...\n",
      "Testing model openai/whisper-large-v3...\n"
     ]
    },
    {
     "name": "stderr",
     "output_type": "stream",
     "text": [
      "Device set to use cpu\n",
      "Whisper did not predict an ending timestamp, which can happen if audio is cut off in the middle of a word. Also make sure WhisperTimeStampLogitsProcessor was used during generation.\n"
     ]
    },
    {
     "name": "stdout",
     "output_type": "stream",
     "text": [
      "\t\tTesting file audio\\de_6_norm_-1.3db.wav...\n",
      "Testing model openai/whisper-large-v3...\n"
     ]
    },
    {
     "name": "stderr",
     "output_type": "stream",
     "text": [
      "Device set to use cpu\n"
     ]
    },
    {
     "name": "stdout",
     "output_type": "stream",
     "text": [
      "\t\tTesting file audio\\de_7_norm_+4.5db.wav...\n",
      "Testing model openai/whisper-large-v3...\n"
     ]
    },
    {
     "name": "stderr",
     "output_type": "stream",
     "text": [
      "Device set to use cpu\n"
     ]
    },
    {
     "name": "stdout",
     "output_type": "stream",
     "text": [
      "\t\tTesting file audio\\de_8_norm_+9.6db.wav...\n",
      "Testing model openai/whisper-large-v3...\n"
     ]
    },
    {
     "name": "stderr",
     "output_type": "stream",
     "text": [
      "Device set to use cpu\n"
     ]
    },
    {
     "name": "stdout",
     "output_type": "stream",
     "text": [
      "\tTesting model openai/whisper-large-v3-turbo...\n",
      "\t\tTesting file audio\\de_0_norm_-1.5db.wav...\n",
      "Testing model openai/whisper-large-v3-turbo...\n"
     ]
    },
    {
     "name": "stderr",
     "output_type": "stream",
     "text": [
      "Device set to use cpu\n"
     ]
    },
    {
     "name": "stdout",
     "output_type": "stream",
     "text": [
      "\t\tTesting file audio\\de_1_norm_-2.4db.wav...\n",
      "Testing model openai/whisper-large-v3-turbo...\n"
     ]
    },
    {
     "name": "stderr",
     "output_type": "stream",
     "text": [
      "Device set to use cpu\n"
     ]
    },
    {
     "name": "stdout",
     "output_type": "stream",
     "text": [
      "\t\tTesting file audio\\de_2_norm_+9.1db.wav...\n",
      "Testing model openai/whisper-large-v3-turbo...\n"
     ]
    },
    {
     "name": "stderr",
     "output_type": "stream",
     "text": [
      "Device set to use cpu\n"
     ]
    },
    {
     "name": "stdout",
     "output_type": "stream",
     "text": [
      "\t\tTesting file audio\\de_3_norm_+0.1db.wav...\n",
      "Testing model openai/whisper-large-v3-turbo...\n"
     ]
    },
    {
     "name": "stderr",
     "output_type": "stream",
     "text": [
      "Device set to use cpu\n"
     ]
    },
    {
     "name": "stdout",
     "output_type": "stream",
     "text": [
      "\t\tTesting file audio\\de_4_norm_+2.5db.wav...\n",
      "Testing model openai/whisper-large-v3-turbo...\n"
     ]
    },
    {
     "name": "stderr",
     "output_type": "stream",
     "text": [
      "Device set to use cpu\n"
     ]
    },
    {
     "name": "stdout",
     "output_type": "stream",
     "text": [
      "\t\tTesting file audio\\de_5_norm_+1.6db.wav...\n",
      "Testing model openai/whisper-large-v3-turbo...\n"
     ]
    },
    {
     "name": "stderr",
     "output_type": "stream",
     "text": [
      "Device set to use cpu\n"
     ]
    },
    {
     "name": "stdout",
     "output_type": "stream",
     "text": [
      "\t\tTesting file audio\\de_6_norm_-1.3db.wav...\n",
      "Testing model openai/whisper-large-v3-turbo...\n"
     ]
    },
    {
     "name": "stderr",
     "output_type": "stream",
     "text": [
      "Device set to use cpu\n"
     ]
    },
    {
     "name": "stdout",
     "output_type": "stream",
     "text": [
      "\t\tTesting file audio\\de_7_norm_+4.5db.wav...\n",
      "Testing model openai/whisper-large-v3-turbo...\n"
     ]
    },
    {
     "name": "stderr",
     "output_type": "stream",
     "text": [
      "Device set to use cpu\n"
     ]
    },
    {
     "name": "stdout",
     "output_type": "stream",
     "text": [
      "\t\tTesting file audio\\de_8_norm_+9.6db.wav...\n",
      "Testing model openai/whisper-large-v3-turbo...\n"
     ]
    },
    {
     "name": "stderr",
     "output_type": "stream",
     "text": [
      "Device set to use cpu\n"
     ]
    }
   ],
   "source": [
    "# Itérer sur result pour tester chaque fichier audio avec chaque modèle\n",
    "# et stocker les résultats dans le dictionnaire results\n",
    "for l in results.keys():\n",
    "    print(f\"Testing language {l}...\")\n",
    "    for m in results[l].keys():\n",
    "        print(f\"\\tTesting model {m}...\")\n",
    "        for f in results[l][m].keys():\n",
    "            print(f\"\\t\\tTesting file {f}...\")\n",
    "            audio_data_test, sr_test = librosa.load(f, sr=16000)\n",
    "            results[l][m][f] = {}\n",
    "            print(f\"Testing model {m}...\")\n",
    "            start_time = time.time()\n",
    "            tmp_model = AutoModelForSpeechSeq2Seq.from_pretrained(\n",
    "                m, torch_dtype=torch_dtype, low_cpu_mem_usage=True, use_safetensors=True\n",
    "            ).to(device)\n",
    "            tmp_processor = AutoProcessor.from_pretrained(m)\n",
    "            tmp_pipe = pipeline(\n",
    "                \"automatic-speech-recognition\",\n",
    "                model=tmp_model,\n",
    "                tokenizer=tmp_processor.tokenizer,\n",
    "                feature_extractor=tmp_processor.feature_extractor,\n",
    "                torch_dtype=torch_dtype,\n",
    "                device=device,\n",
    "                return_timestamps=True,\n",
    "            )\n",
    "\n",
    "            output = tmp_pipe(audio_data_test)\n",
    "            elapsed = time.time() - start_time\n",
    "            wer_value = wer_metric.compute(\n",
    "                predictions=[output[\"text\"]], references=[texts[l]]\n",
    "            )\n",
    "\n",
    "            results[l][m][f].update(\n",
    "                {\"transcription\": output[\"text\"], \"wer\": wer_value, \"time_s\": elapsed}\n",
    "            )"
   ]
  },
  {
   "cell_type": "markdown",
   "metadata": {},
   "source": [
    "### Enregistrement des résultats"
   ]
  },
  {
   "cell_type": "code",
   "execution_count": 32,
   "metadata": {},
   "outputs": [],
   "source": [
    "# Enregistrer la variable results dans un fichier pickle\n",
    "with open(\"results.pkl\", \"wb\") as f:\n",
    "    pickle.dump(results, f)"
   ]
  },
  {
   "cell_type": "code",
   "execution_count": 33,
   "metadata": {},
   "outputs": [
    {
     "data": {
      "text/plain": [
       "['results.joblib']"
      ]
     },
     "execution_count": 33,
     "metadata": {},
     "output_type": "execute_result"
    }
   ],
   "source": [
    "# Enregistrer la variable results dans un fichier joblib\n",
    "joblib.dump(results, \"results.joblib\")"
   ]
  },
  {
   "cell_type": "code",
   "execution_count": 34,
   "metadata": {},
   "outputs": [],
   "source": [
    "# Enregistrer la variable results dans un fichier csv\n",
    "results_df = pd.DataFrame(results)\n",
    "results_df.to_csv(\"results.csv\")"
   ]
  },
  {
   "cell_type": "code",
   "execution_count": 41,
   "metadata": {},
   "outputs": [],
   "source": [
    "# Enregistrer la variable results dans un fichier texte\n",
    "with open(\"results.txt\", \"w\") as f:\n",
    "    f.write(str(results))"
   ]
  },
  {
   "cell_type": "code",
   "execution_count": 43,
   "metadata": {},
   "outputs": [],
   "source": [
    "# Enregistrer la variable results dans un fichier json\n",
    "import json\n",
    "\n",
    "\n",
    "def convert_keys_to_str(data):\n",
    "    if isinstance(data, dict):\n",
    "        return {str(k): convert_keys_to_str(v) for k, v in data.items()}\n",
    "    elif isinstance(data, list):\n",
    "        return [convert_keys_to_str(item) for item in data]\n",
    "    else:\n",
    "        return data\n",
    "\n",
    "\n",
    "with open(\"results.json\", \"w\") as f:\n",
    "    json.dump(convert_keys_to_str(results), f)"
   ]
  }
 ],
 "metadata": {
  "kernelspec": {
   "display_name": "llm",
   "language": "python",
   "name": "python3"
  },
  "language_info": {
   "codemirror_mode": {
    "name": "ipython",
    "version": 3
   },
   "file_extension": ".py",
   "mimetype": "text/x-python",
   "name": "python",
   "nbconvert_exporter": "python",
   "pygments_lexer": "ipython3",
   "version": "3.9.21"
  }
 },
 "nbformat": 4,
 "nbformat_minor": 2
}
