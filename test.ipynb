{
 "cells": [
  {
   "cell_type": "code",
   "execution_count": 1,
   "metadata": {},
   "outputs": [
    {
     "name": "stdout",
     "output_type": "stream",
     "text": [
      "dict_keys(['speaker', 'speaker_active', 'speaker_amount', 'wall', 'space', 'space_active', 'space_mix', 'reverb_length', 'bypass', 'program'])\n"
     ]
    }
   ],
   "source": [
    "import pedalboard\n",
    "\n",
    "# Load a VST3 or Audio Unit plugin from a known path on disk:\n",
    "effect = pedalboard.load_plugin(\"PlaceIt.vst3\")\n",
    "\n",
    "print(effect.parameters.keys())"
   ]
  }
 ],
 "metadata": {
  "kernelspec": {
   "display_name": "Python 3",
   "language": "python",
   "name": "python3"
  },
  "language_info": {
   "codemirror_mode": {
    "name": "ipython",
    "version": 3
   },
   "file_extension": ".py",
   "mimetype": "text/x-python",
   "name": "python",
   "nbconvert_exporter": "python",
   "pygments_lexer": "ipython3",
   "version": "3.9.13"
  }
 },
 "nbformat": 4,
 "nbformat_minor": 2
}
